{
 "cells": [
  {
   "cell_type": "code",
   "execution_count": null,
   "metadata": {},
   "outputs": [],
   "source": [
    "# Below we have sections of short driver scripts that run different parts of the heatmap code\n",
    "# Not all functions in the 5 functiond definition .py's are called yet,\n",
    "# but the ones that are called so far compile below without error\n",
    "\n",
    "#%load_ext autoreload\n",
    "#%autoreload 2"
   ]
  },
  {
   "cell_type": "code",
   "execution_count": null,
   "metadata": {
    "scrolled": true
   },
   "outputs": [],
   "source": [
    "import importlib\n",
    "import setup_nx # your own module, setup.nx.py\n",
    "import numpy as np\n",
    "import math as m\n",
    "import statistics as st\n",
    "import cmath\n",
    "import matplotlib.pyplot as plt \n",
    "import itertools\n",
    "import random\n",
    "import xlrd\n",
    "from operator import add\n",
    "importlib.reload(setup_nx)\n",
    "from setup_nx import *\n",
    "from graphviz import Source, render\n",
    "import pprint\n",
    "\n",
    "import datetime\n",
    "import time\n",
    "\n",
    "import my_feeder_funcs as ff\n",
    "import my_impedance_funcs as imp\n",
    "import my_configVis_funcs as vis\n",
    "import my_detControlMatExistence_funcs as ctrl\n",
    "import my_detLznRange_funcs as lzn\n",
    "import my_heatmapSetup_funcs as hm\n"
   ]
  },
  {
   "cell_type": "code",
   "execution_count": null,
   "metadata": {},
   "outputs": [],
   "source": [
    "# List functions in each helper .py\n",
    "help(ff)\n",
    "print(\"----------------------------------------------------------\")\n",
    "help(imp)\n",
    "print(\"----------------------------------------------------------\")\n",
    "help(vis)\n",
    "print(\"----------------------------------------------------------\")\n",
    "help(lzn)\n",
    "print(\"----------------------------------------------------------\")\n",
    "help(hm)\n",
    "print(\"----------------------------------------------------------\")\n",
    "help(ctrl)"
   ]
  },
  {
   "cell_type": "code",
   "execution_count": null,
   "metadata": {},
   "outputs": [],
   "source": [
    "# [Essential] specify input feeder data\n",
    "\n",
    "#-----------------------------------------------------------------\n",
    "'specifying file paths'\n",
    "# Enter the path/name of the model's excel file and import\n",
    "    # All GridBright load files should be in the following folder\n",
    "    #loadfolder = \"/Users/jasperpakshong/Documents/Berkeley/ENERGISE/IEEE13/\"\n",
    "    #loadpath = loadfolder + \"IEEE13testload_w_extreme_act.xlsx\"\n",
    "\n",
    "    # filepath = \"IEEE13/\"\n",
    "    # modelpath = filepath + \"001 phasor08_IEEE13_OPAL.xls\"\n",
    "    # loadfolder = \"IEEE13/\"\n",
    "    # loadpath = loadfolder + \"001_phasor08_IEEE13_norm03_HIL_7_1.xlsx\"\n",
    "\n",
    "    #filepath = \"AL0001/\"\n",
    "    #modelpath = filepath + \"AL0001_OPAL_working.xls\"\n",
    "    #loadfolder = \"AL0001/\"\n",
    "    #loadpath = loadfolder + \"AL0001_tvload_afternoon1h.csv\"\n",
    "    \n",
    "    #filepath = \"13NF_balanced/\"\n",
    "    #modelpath = filepath + \"016 GB_IEEE13_balance_all_ver2.xls\"\n",
    "    #loadfolder = \"13NF_balanced/\"\n",
    "    #loadpath = loadfolder + \"016 GB_IEEE13_balance all ver2_time_sigBuilder_secondWise_norm03.csv\"\n",
    "\n",
    "filepath = \"13NF_balanced/\"\n",
    "modelpath = filepath + \"impedMod_IEEE13 unbal copy.xlsx\" #\"016 GB_IEEE13_balance_all_ver2.xls\"\n",
    "loadfolder = \"13NF_balanced/\"\n",
    "loadfile = \"016 GB_IEEE13_balance all ver2_time_sigBuilder_secondwise_norm03.csv\"\n",
    "loadpath = loadfolder + loadfile\n",
    "headerpath = '13NF_balanced/001_phasor08_IEEE13_time_header.csv'\n",
    "load_data = '13NF_balanced/001_phasor08_IEEE13_time_PVpen50_cloud_minutewise (1).csv'\n",
    "\n",
    "#==========================================================================================================\n",
    "\n",
    "'specifying file name'\n",
    "#file_name = string specifying name of dot file created when make_graph() is called\n",
    "file_name = '13NF_test.dot'\n",
    "\n",
    "#==========================================================================================================\n",
    "\n",
    "'list actuator locations and performance node'\n",
    "# all_act_locs = list of node names as strings where actuators will be placed\n",
    "all_act_locs = ['bus_651','bus_611','bus_633']\n",
    "perf_nodes = ['bus_651','bus_611','bus_633']\n",
    "\n",
    "#==========================================================================================================\n",
    "\n",
    "'Specify substation kV, kVA bases, name, and the number of timesteps in the load data'\n",
    "Vbase_ll = 4160\n",
    "Vbase = Vbase_ll / np.sqrt(3)\n",
    "Sbase = 5000/3\n",
    "substation_name = 'bus_650'\n",
    "timesteps = 1\n",
    "\n",
    "'DO NOT NEED TO EDIT THIS CELL BEFORE RUNNING'\n",
    "\n",
    "ts = time.time()\n",
    "print()\n",
    "print(datetime.datetime.fromtimestamp(ts))\n",
    "\n",
    "plot = 0 #turn plot on/off\n",
    "\n",
    "depths = {}\n",
    "leaves = []"
   ]
  },
  {
   "cell_type": "code",
   "execution_count": null,
   "metadata": {},
   "outputs": [],
   "source": [
    "# --------- [ESSENTIAL] create feeder obj ----------\n",
    "fin_feeder = ff.feeder_init(modelpath,loadfolder,loadpath,timesteps,Vbase_ll,Sbase,depths,leaves)\n",
    "print(\"Finished initializing feeder\")\n",
    "ff.make_graph(fin_feeder, file_name)\n",
    "node_index_map = hm.createNodeIndexMap(fin_feeder) #node indices for indicMat and F matrix\n",
    "R,X=hm.createRXmatrices_3ph(fin_feeder, node_index_map,depths)\n",
    "\n",
    "print(depths) # should be populated\n",
    "\n",
    "count = 0 # print list of buses in network\n",
    "for i in fin_feeder.network:    \n",
    "    print(i) \n",
    "    count += 1\n",
    "    if count >= 10:\n",
    "        break\n",
    "    \n",
    "Source.from_file(file_name)\n",
    "#^ need this to plot feeder"
   ]
  },
  {
   "cell_type": "code",
   "execution_count": null,
   "metadata": {},
   "outputs": [],
   "source": [
    "# ----- Create Fig 1 ---------\n",
    "# we have two options, both are not very interesting for 13NF\n",
    "\n",
    "# Assess feas of placing 1 colocated at each node on feeder\n",
    "# result: all locations are green\n",
    "all_act_locs = []\n",
    "perf_nodes = []\n",
    "# empty act locs asks heatMapProcess to create heatmap for empty network, i.e. feas of placing 1 co-located actuator at each loc\n",
    "fig1_feas_configs, heatMapNames=hm.find_good_colocated(fin_feeder, [], node_index_map,substation_name,depths, file_name,Vbase_ll, Sbase, load_data, headerpath, modelpath)\n",
    "ff.clear_graph(fin_feeder)\n",
    "\n",
    "#pprint.pprint(fig1_feas_configs)"
   ]
  },
  {
   "cell_type": "code",
   "execution_count": null,
   "metadata": {},
   "outputs": [],
   "source": [
    "# Colormap showing good places to place colocated (find_good_coloc):\n",
    "Source.from_file(heatMapNames[0]) # display graph in notebook"
   ]
  },
  {
   "cell_type": "code",
   "execution_count": null,
   "metadata": {
    "scrolled": false
   },
   "outputs": [],
   "source": [
    "print('----------- Feas configs are: ---------')\n",
    "\n",
    "# Place maximum number of colocated act/perf nodes on network randomly. If infeas loc tested, randomly select another test node and continue function run\n",
    "# result: can place colocated at all nodes\n",
    "max_act_config = hm.place_max_coloc_acts(fin_feeder, file_name, node_index_map, depths, substation_name,Vbase_ll, Sbase, load_data, headerpath, modelpath)"
   ]
  },
  {
   "cell_type": "code",
   "execution_count": null,
   "metadata": {},
   "outputs": [],
   "source": [
    "# Actuator map showing the result of randomly placing coloc until cannot find feas loc (place_max_coloc_acts):\n",
    "Source.from_file('actConfig_max_coloc')"
   ]
  },
  {
   "cell_type": "code",
   "execution_count": null,
   "metadata": {
    "scrolled": true
   },
   "outputs": [],
   "source": [
    "# ----- Create Figure 2 ---------\n",
    "# phase coupling values = ratio of mutual impedance to self impedance for each path to substation\n",
    "ratios = vis.phaseCouplingPerNode(fin_feeder, depths, file_name) # \"a -->\" b indicates interval (a,b)\n",
    "vis.createColorMap(fin_feeder, ratios, 'fig2_13NF')\n",
    "print('\\n Phase Coupling Ratios')\n",
    "print(ratios)\n",
    "Source.from_file('colorMap_fig2_13NF') # display graph in notebook"
   ]
  },
  {
   "cell_type": "code",
   "execution_count": null,
   "metadata": {},
   "outputs": [],
   "source": [
    "# ----- Create Figure 3 ---------\n",
    "#  Color map overlayed onto feeder diagram that shows linearization error\n",
    "# \"feas_configs\" should exist from call to \"find_good_colocated\" called for Fig 1\n",
    "lzn_err_dic = {}\n",
    "errType=0 # choose among 0,1,2,3 for [PV, QV, Pdel,Qdel] lzn errors\n",
    "scale=100000 # so values nicely fit into bins\n",
    "for dic in fig1_feas_configs:\n",
    "    node = (dic['act'])[0]\n",
    "    lzn_err = (dic['lznErr'])[0][errType] #extract lzn error scalar from fig1_feas_configs dict\n",
    "    lzn_err_dic[node] = lzn_err*scale\n",
    "\n",
    "pprint.pprint(lzn_err_dic)\n",
    "vis.createColorMap(fin_feeder, lzn_err_dic, 'fig3_13NF') \n",
    "ff.clear_graph(fin_feeder)\n",
    "Source.from_file('colorMap_fig3_13NF')  # display graph in notebook"
   ]
  },
  {
   "cell_type": "code",
   "execution_count": null,
   "metadata": {},
   "outputs": [],
   "source": [
    "#pprint.pprint(fig1_feas_configs)\n",
    "print(dic['lznErr'])\n",
    "print((dic['lznErr'])[0][0])"
   ]
  },
  {
   "cell_type": "code",
   "execution_count": null,
   "metadata": {},
   "outputs": [],
   "source": [
    "# ----- Create Table 1 ---------\n",
    "# complex config 1\n",
    "all_act_locs = ['bus_675','bus_611','bus_652','bus_645']\n",
    "perf_nodes = ['bus_671','bus_684','bus_684','bus_632']\n",
    "\n",
    "Zbase = (Vbase**2)/(Sbase*1000)\n",
    "P_lb_results, P_ub_results, Q_lb_results, Q_ub_results = lzn.computePQsweep_timesteps(fin_feeder, load_data)\n",
    "PQ_bounds, PQ_losses = lzn.computePQsweep_losses(fin_feeder, all_act_locs, Sbase, Zbase, P_lb_results, P_ub_results, Q_lb_results, Q_ub_results, headerpath, substation_name, modelpath, depths)\n",
    "data = [['Timestep', 'Computed Line Losses', '', 'True Line Losses', ''],\n",
    "        ['','P_loss', 'Q_loss', 'P_loss', 'Q_loss'], \n",
    "        ['P_lb, Ts='+str(P_lb_results[0]), PQ_losses[0], PQ_losses[1], '*', '*'],\n",
    "        ['P_ub, Ts='+str(P_ub_results[0]), PQ_losses[2], PQ_losses[3], '*', '*'],\n",
    "        ['Q_lb, Ts='+str(Q_lb_results[0]), PQ_losses[4], PQ_losses[5], '*', '*'],\n",
    "        ['Q_ub, Ts='+str(Q_ub_results[0]), PQ_losses[6], PQ_losses[7], '*', '*']]\n",
    "\n",
    "dash = '-' * 60\n",
    "print(dash)\n",
    "print('{:<15s}{:>20s}{:>5s}{:^18s}{:>4s}'.format(data[0][0],data[0][1],data[0][2],data[0][3], data[0][4]))\n",
    "print('{:<10s}{:>12s}{:>12s}{:>12s}{:>12s}'.format(data[1][0],data[1][1],data[1][2],data[1][3], data[1][4]))\n",
    "print(dash)\n",
    "for i in range(len(data))[2:]:\n",
    "    print('{:<12s}{:>12f}{:>12f}{:>12s}{:>12s}'.format(data[i][0],data[i][1],data[i][2],data[i][3], data[i][4]))\n"
   ]
  },
  {
   "cell_type": "code",
   "execution_count": null,
   "metadata": {},
   "outputs": [],
   "source": [
    "# ----------- Figure 4, RHP on complex config 3 --------------\n",
    "# Let's see where feas is lost! With complex config 3 (infeas)\n",
    "all_act_locs = ['bus_611','bus_652','bus_645','bus_675',]\n",
    "perf_nodes = ['bus_684','bus_684','bus_632','bus_671']\n",
    "fig4_feas_configs, lzn_error_run_sum,heatMapNames = hm.runHeatMapProcess(fin_feeder, [], [], all_act_locs, perf_nodes, node_index_map,substation_name,depths,file_name,Vbase_ll, Sbase, load_data, headerpath, modelpath)"
   ]
  },
  {
   "cell_type": "code",
   "execution_count": null,
   "metadata": {},
   "outputs": [],
   "source": [
    "Source.from_file(heatMapNames[0]) # display graph in notebook\n",
    "# we place 611-->684"
   ]
  },
  {
   "cell_type": "code",
   "execution_count": null,
   "metadata": {},
   "outputs": [],
   "source": [
    "Source.from_file(heatMapNames[1]) # display graph in notebook\n",
    "# we place 652-->684"
   ]
  },
  {
   "cell_type": "code",
   "execution_count": null,
   "metadata": {},
   "outputs": [],
   "source": [
    "Source.from_file(heatMapNames[2]) # display graph in notebook\n",
    "# we place 645-->632"
   ]
  },
  {
   "cell_type": "code",
   "execution_count": null,
   "metadata": {},
   "outputs": [],
   "source": [
    "Source.from_file(heatMapNames[3]) # display graph in notebook\n",
    "# we are looking to track 671, but stupidly choose 675 as act node even though heat map shows red\n",
    "# we place 675-->671, resulting in infeas config"
   ]
  },
  {
   "cell_type": "code",
   "execution_count": null,
   "metadata": {},
   "outputs": [],
   "source": [
    "# ------- Create Fig 5 and 7,+ validate fesa with eval_config ----------\n",
    "# Desc: Two diagrams for 2 complex config1 and 2, labeled with act/perf node locations, plus PV curves\n",
    "\n",
    "# Define Complex Config 3 (infeas)\n",
    "all_act_locs = ['bus_675','bus_611','bus_652','bus_645']\n",
    "perf_nodes = ['bus_671','bus_684','bus_684','bus_632']\n",
    "feas, maxError,numfeas=hm.eval_config(fin_feeder, all_act_locs,perf_nodes, node_index_map,substation_name,depths,file_name,Vbase_ll, Sbase, load_data, headerpath, modelpath)\n",
    "# normally file_name='13NF_test.dot'\n",
    "vis.markActuatorConfig(all_act_locs, fin_feeder, 'complex_config_1')\n",
    "ff.clear_graph(fin_feeder)\n",
    "\n",
    "# Define Complex Config 4 (feas)\n",
    "all_act_locs = ['bus_611','bus_675','bus_645','bus_646']\n",
    "perf_nodes = ['bus_671','bus_671','bus_632','bus_646']\n",
    "feas, maxError,numfeas=hm.eval_config(fin_feeder, all_act_locs,perf_nodes, node_index_map,substation_name,depths,file_name,Vbase_ll, Sbase, load_data, headerpath, modelpath)\n",
    "vis.markActuatorConfig(all_act_locs, fin_feeder, 'complex_config_2')\n",
    "ff.clear_graph(fin_feeder)\n",
    "\n",
    "# BUG: second call to markActCOnfig appends actuator nodes to previous graph"
   ]
  },
  {
   "cell_type": "code",
   "execution_count": null,
   "metadata": {},
   "outputs": [],
   "source": [
    "# Figure 6: not done in python, simulate cc3 with lin state space sim and RTlab\n",
    "# Figure 7: PV curves for cc3, produced at sam"
   ]
  },
  {
   "cell_type": "code",
   "execution_count": null,
   "metadata": {},
   "outputs": [],
   "source": [
    "# ------ [Optional] run impedance-related functions --------\n",
    "slack_bus = None\n",
    "for bus_name, depth in depths.items():\n",
    "    if depth == 0:\n",
    "        slack_bus = bus_name\n",
    "        break\n",
    "print(depths)\n",
    "# modify node names when change feeders\n",
    "imp.plot_histogram_RX_ratios(fin_feeder,leaves,slack_bus,depths,leaves_only = True)\n",
    "print('Z between buses:')\n",
    "print(imp.get_total_impedance_between_two_buses(fin_feeder, 'bus_632', 'bus_684',depths))\n",
    "print('\\nZ to substation:')\n",
    "print(imp.get_total_impedance_from_substation(fin_feeder, 'bus_632',depths))\n",
    "print('\\nX/R ratio of path to substation:')\n",
    "print(imp.get_RX_ratio_tosubst(fin_feeder, 'bus_632',depths))\n",
    "# should check on how to format the printing do that it's to like 2 decimal places"
   ]
  },
  {
   "cell_type": "code",
   "execution_count": null,
   "metadata": {},
   "outputs": [],
   "source": [
    "# ----- run detLznRange ---------\n",
    "z12 = imp.get_total_impedance_from_substation(fin_feeder, 'bus_632', depths) # 3 phase\n",
    "B12 = np.zeros((3,3)) # TEMPORARY, line susceptance, Yshunt=G+jB\n",
    "printCurves = True\n",
    "all_act_locs = ['bus_611','bus_675','bus_645','bus_646']\n",
    "lzn_err_max, slopes = lzn.detLznRange(fin_feeder, Vbase_ll, Sbase, z12, B12, all_act_locs, load_data, headerpath, substation_name, modelpath, depths,printCurves) # usually called by computeFeas\n",
    "#^ calls computePQsweep, makePVcurve, makeQVcurve, computeLznItvl"
   ]
  },
  {
   "cell_type": "code",
   "execution_count": null,
   "metadata": {},
   "outputs": [],
   "source": [
    "# ----- Run computeFParamSpace  and save R and X matrices as csv ---------\n",
    "\n",
    "#importlib.reload(ctrl)\n",
    "all_act_locs = ['bus_645','bus_646','bus_611','bus_675']\n",
    "perf_nodes = ['bus_632','bus_646','bus_671','bus_671']\n",
    "Fq_ub,Fp_ub=ctrl.computeFParamSpace_v2(fin_feeder, all_act_locs, perf_nodes,R,X,depths,node_index_map)\n",
    "# this function prints Zgood (from R and X matrices) and Z_toSubst, where Z_toSubst is correct but doesnt match Zgood. Investigate\n",
    "print('(Fp_ub,Fq_ub)=(',Fp_ub,',',Fq_ub,')')\n",
    "#print('(q,p)=(',q,',',p,')')\n",
    "\n",
    "# Save R and X matrices to csv to import into matlab\n",
    "# np.savetxt reference: https://thispointer.com/how-to-save-numpy-array-to-a-csv-file-using-numpy-savetxt-in-python/\n",
    "#np.savetxt('Rmat_13NF.csv', R, delimiter=',')\n",
    "#np.savetxt('Xmat_13NF.csv', X, delimiter=',')"
   ]
  },
  {
   "cell_type": "code",
   "execution_count": null,
   "metadata": {},
   "outputs": [],
   "source": [
    "# -------- Solve 3-ph fwd-bwd sweep for toy example ----------\n",
    "# values have been validated wrt matlab translation\n",
    "R12=np.identity(3) # per unit\n",
    "X12=3*np.identity(3)\n",
    "B12=(10**-6)*0.5*np.ones(3);\n",
    "V1a=Vbase*np.cos(0*np.pi/180)+1j*Vbase*np.sin(0*np.pi/180); # angle=0 deg\n",
    "V1b=Vbase*np.cos(-120*np.pi/180)+1j*Vbase*np.sin(-120*np.pi/180); # angle=-120 deg\n",
    "V1c=Vbase*np.cos(+120*np.pi/180)+1j*Vbase*np.sin(+120*np.pi/180); # angle=+120 deg\n",
    "V1=np.transpose([[V1a, V1b, V1c]])/Vbase;\n",
    "V2=np.array([[0.97, 0.98, 0.985]]).transpose()\n",
    "del2=np.array([[2, -120-1, 120-7]]).transpose() # degrees\n",
    "V2cplx=np.multiply(V2,np.cos(del2*np.pi/180))+np.multiply(V2,np.sin(del2*np.pi/180)*1j)\n",
    "I=np.dot(np.linalg.inv(R12+1j*X12),V1-V2cplx) # I=YV, 3x1 = (3x3)(3x1) matrix mult\n",
    "S2=np.multiply(V2cplx,np.conj(I)); # 3x1=(3x1)(3x1) elementwise!\n",
    "P2=np.real(S2)\n",
    "Q2=np.imag(S2);\n",
    "\n",
    "# inputs: 3x3 matrices and 3x1 vectors\n",
    "V2_3ph,del2_3ph=lzn.solveFwdBwdSweep_2bus_3ph(R12, X12, B12,V1, P2, Q2)\n",
    "# outputs: 3x1 vector for mag (Vpu), 3x1 vector for phase angle (degrees)\n",
    "print('V2_3ph=',V2_3ph)\n",
    "print('del2_3ph=',del2_3ph)\n",
    "\n",
    "print('--------------------------------------------------')\n",
    "R12=0.37878788*np.array([[ 0.3465,  0.156,  0.158,], # not pu\n",
    "       [ 0.156,  0.3375,  0.1535,],\n",
    "       [ 0.158,  0.1535,  0.3414]])\n",
    "X12=0.37878788*np.array([[ 1.0179,  0.5017,  0.4236,],\n",
    "       [ 0.5017,  1.0478,  0.3849,],\n",
    "       [ 0.4236,  0.3849,  1.0348]])\n",
    "B12=0.37878788*(10**-6)*np.array([[6.2998,  -1.9958,  -1.2595,],\n",
    "    [-1.9958,  5.9597,  -0.7417,],\n",
    "    [-1.2595,  -0.7417,  5.6386]]) # line susceptance, Yshunt=G+jB, impedacen excel gives in uS so multiply by 10^-6 to get to SI units\n",
    "V1=Vbase*np.ones((3,1)) # 2401\n",
    "# key: V1 in 3 phase is not all angle=0! Need cos and sin\n",
    "V1a=Vbase*np.cos(0*np.pi/180)+1j*Vbase*np.sin(0*np.pi/180); # angle=0 deg\n",
    "V1b=Vbase*np.cos(-120*np.pi/180)+1j*Vbase*np.sin(-120*np.pi/180); # angle=-120 deg\n",
    "V1c=Vbase*np.cos(+120*np.pi/180)+1j*Vbase*np.sin(+120*np.pi/180); # angle=+120 deg\n",
    "V1=np.transpose([[V1a, V1b, V1c]]);\n",
    "P2=100000*np.ones((3,1)) # watts, to be congruent with volts and ohms\n",
    "Q2=20000*np.ones((3,1))\n",
    "V2_3ph,del2_3ph=lzn.solveFwdBwdSweep_2bus_3ph(R12, X12, B12,V1, P2, Q2)\n",
    "print('V2_3ph=',V2_3ph)\n",
    "print('del2_3ph=',del2_3ph)\n",
    "\n",
    "\n",
    "# ----------- run makePVcurve ---------\n",
    "Plb=20000 # 20kW\n",
    "Pub=300000 # 300kW\n",
    "Qlb=-5000 # -5kW\n",
    "Qub=75000 # 75kW\n",
    "printCurves=True\n",
    "PQ_bounds=[Plb/Sbase, Pub/Sbase, Qlb/Sbase, Qub/Sbase] # input as pu\n",
    "lzn.makePVcurve_3ph(PQ_bounds, Sbase, Vbase, R12, X12, B12, V1,printCurves)\n",
    "lzn.makeQVcurve_3ph(PQ_bounds, Sbase, Vbase, R12, X12, B12, V1,printCurves)\n",
    "# true curve looks fine, lzn curve wrong"
   ]
  },
  {
   "cell_type": "code",
   "execution_count": null,
   "metadata": {},
   "outputs": [],
   "source": [
    "# ---------- Compare 1 to many on branch ----------\n",
    "# Compare heatmaps for many actuators on a branch tracking middle node, and one colocated actuator/perf on middle node\n",
    "branches = vis.assign_network_branches(fin_feeder, substation_name)\n",
    "print('branches =', branches)\n",
    "\n",
    "my_branch = branches[5] # choosing a branch that doesn't include substation (no interesting options for 13NF)\n",
    "if 'bus_650' in my_branch:\n",
    "    my_branch.remove('bus_650')\n",
    "    my_branch.remove('bus_651')\n",
    "middle_node = my_branch[len(my_branch)//2]\n",
    "act_locs = my_branch\n",
    "act_locs.remove(middle_node)\n",
    "perf_nodes = [middle_node for _ in act_locs]\n",
    "print('act locs =',act_locs)\n",
    "print('perf nodes =',perf_nodes)\n",
    "# add on \"middle_node\" pair, because heatmap is for once you've placed act at middle node\n",
    "f, lzn_error_run_sum, one_act = hm.runHeatMapProcess(fin_feeder, [middle_node], [middle_node], [my_branch[2]], [middle_node], node_index_map, substation_name, depths, file_name,Vbase_ll, Sbase, load_data, headerpath, modelpath)"
   ]
  },
  {
   "cell_type": "code",
   "execution_count": null,
   "metadata": {},
   "outputs": [],
   "source": [
    "# display heatmap for one colocated actuator/perf node\n",
    "ff.clear_graph(fin_feeder)\n",
    "Source.from_file(one_act[-1])"
   ]
  },
  {
   "cell_type": "code",
   "execution_count": null,
   "metadata": {},
   "outputs": [],
   "source": [
    "# ---------- Compare 1 to many on branch ----------\n",
    "# add on \"middle_node\" pair, because heatmap is for once you've placed act at middle node\n",
    "f, lzn_error_run_sum, many_acts = hm.runHeatMapProcess(fin_feeder, act_locs, perf_nodes, ['bus_633'], [middle_node], node_index_map, substation_name, depths, file_name,Vbase_ll, Sbase, load_data, headerpath, modelpath)"
   ]
  },
  {
   "cell_type": "code",
   "execution_count": null,
   "metadata": {},
   "outputs": [],
   "source": [
    "# display heatmap for many actuators (all along branch) tracking one perf node (on same branch)\n",
    "print('perf nodes =',perf_nodes)\n",
    "ff.clear_graph(fin_feeder)\n",
    "Source.from_file(many_acts[-1]) # show the last file \"many_acts\""
   ]
  },
  {
   "cell_type": "code",
   "execution_count": null,
   "metadata": {},
   "outputs": [],
   "source": [
    "# ----- run markCommonFeasNodes ---------\"\n",
    "# input a list of feasible actuator configurations where each configuration is its own list (ie a list of lists)\"\n",
    "# for actuator locations that appear in every configuration, mark node blue\"\n",
    "# data is pulled from \"fig1_feas_configs\" assigned when creating fig 4\n",
    "lst_feas_configs = []\n",
    "for dic in fig4_feas_configs:\n",
    "    lst_feas_configs += [dic['act']]\n",
    "   \n",
    "print('list feas configs=',lst_feas_configs)\n",
    "shared_act_locs = vis.markCommonFeasNodes(lst_feas_configs, fin_feeder, file_name)\n",
    "Source.from_file('shared_act_locs_' + file_name)"
   ]
  },
  {
   "cell_type": "code",
   "execution_count": null,
   "metadata": {},
   "outputs": [],
   "source": [
    "# ----- run find_ActLoc_in_FeasConfigs ---------\"\n",
    "# act_loc = node name of potential actuator location\"\n",
    "# feas_configs = a list of feasible actuator configurations\"\n",
    "act_loc = 'bus_633'\n",
    "configs_with_act = vis.find_ActLoc_in_FeasConfigs(act_loc, lst_feas_configs)\n",
    "print('set of act locs assoc with feas configs that contain ',act_loc,':', configs_with_act)"
   ]
  },
  {
   "cell_type": "code",
   "execution_count": null,
   "metadata": {},
   "outputs": [],
   "source": [
    "# ----- run plot_actuator_num_histogram ---------\"\n",
    "# input list of lists of feasible actuator configurations\"\n",
    "# output histogram reflecting number of actuators in each feas configuration\"\n",
    "vis.plot_actuator_num_histogram(lst_feas_configs, file_name)    "
   ]
  },
  {
   "cell_type": "code",
   "execution_count": null,
   "metadata": {},
   "outputs": [],
   "source": [
    "# ----- run assign_network_branches ---------\"\n",
    "branches = vis.assign_network_branches(fin_feeder, substation_name)\n",
    "vis.mark_network_branches(fin_feeder, branches, file_name, substation_name, depths)\n",
    "Source.from_file('branch_key:' + file_name)"
   ]
  },
  {
   "cell_type": "code",
   "execution_count": null,
   "metadata": {},
   "outputs": [],
   "source": [
    "# ----- run find_good_branches ---------\"\n",
    "# the 'best' branch is the branch with the most actuators on it across all configurations\n",
    "num_good_branches = 3 # you choose\n",
    "vis.find_good_branches(lst_feas_configs, branches, num_good_branches)"
   ]
  },
  {
   "cell_type": "code",
   "execution_count": null,
   "metadata": {},
   "outputs": [],
   "source": [
    "# ----- run determine_good_or_bad_branch ---------\"\n",
    "print('Branches are ', branches)\n",
    "branch = branches[-2]  # you choose as input\n",
    "good_branch_threshold = 5 # threshhold # configs that much use the branch (i.e. an act on that branch) for the branch to be \"good\"\n",
    "configs_with_branch = vis.determine_good_or_bad_branch(branch, lst_feas_configs, good_branch_threshold)\n",
    "# output: configs that use the branch, and if that # exceeds threshhold, call the branch \"good\"\n",
    "print('Num feas configs =', len(lst_feas_configs))"
   ]
  },
  {
   "cell_type": "code",
   "execution_count": null,
   "metadata": {},
   "outputs": [],
   "source": [
    "# Rx ratio and phase coupling ratio informs bad branches\n",
    "branches = vis.assign_network_branches(fin_feeder, substation_name)\n",
    "for branch in branches:\n",
    "    if 'bus_650'in branch:\n",
    "        branch.remove('bus_650')\n",
    "        branch.remove('bus_651')\n",
    "rx_dic = {}\n",
    "coupling_ratios = vis.phaseCouplingPerNode(fin_feeder, depths, file_name)\n",
    "graphNodes_nosub = hm.remove_subst_nodes(fin_feeder, file_name) # dont consider substation nodes, node 650 and 651 for 13NF\n",
    "for node_name in graphNodes_nosub:\n",
    "    rx_3ph = (imp.get_RX_ratio_tosubst(fin_feeder, node_name, depths)).values()\n",
    "    rx_dic[node_name] = sum(rx_3ph) \n",
    "\n",
    "normd_coupl_ratios = {}\n",
    "normd_rx = {}\n",
    "avg_coupl = np.mean(list(coupling_ratios.values()))\n",
    "avg_rx = np.mean(list(rx_dic.values()))\n",
    "\n",
    "for key, val in coupling_ratios.items():\n",
    "    normd_coupl_ratios[key] = val/avg_coupl\n",
    "for key, val in rx_dic.items():\n",
    "    normd_rx[key] = val/avg_rx\n",
    "\n",
    "mixed_vals = {}\n",
    "for node in graphNodes_nosub:\n",
    "    mixed_vals[node] = normd_coupl_ratios[node] + normd_rx[node]\n",
    "vis.createColorMap(fin_feeder, mixed_vals, 'mixed_colormap')\n",
    "Source.from_file('colorMap_mixed_colormap') # display colormap to see good/bad branches  "
   ]
  },
  {
   "cell_type": "code",
   "execution_count": null,
   "metadata": {},
   "outputs": [],
   "source": [
    "# Rx ratio and phase coupling ratio informs bad branches cont.\n",
    "# place an actuator on a 'bad' branch and run runHeatMapProcess\n",
    "#'bad' branch has large phase coupling and/or rx values\n",
    "sum_branches = {}\n",
    "for i in range(len(branches)):\n",
    "    branch = branches[i]\n",
    "    # key = index of branch in branches list\n",
    "    sum_branches[i] = 0\n",
    "    for node in branch:\n",
    "        sum_branches[i] += mixed_vals[node]\n",
    "\n",
    "worst_branch_indx = max(sum_branches, key = sum_branches.get)\n",
    "worst_mixdVal_branch = branches[worst_branch_indx]\n",
    "set_act = [worst_mixdVal_branch[len(worst_mixdVal_branch)//2]]\n",
    "set_perf = [worst_mixdVal_branch[len(worst_mixdVal_branch)//2]]\n",
    "node_lst = list(graphNodes_nosub)\n",
    "node_lst.remove(set_act[0])\n",
    "test_act = [node_lst[0]]\n",
    "test_perf = set_perf\n",
    "feas_configs, lzn_error_run_sum, bad_branch_map = hm.runHeatMapProcess(fin_feeder, set_act, set_perf, test_act, test_perf, node_index_map, substation_name, depths, file_name,Vbase_ll, Sbase, load_data, headerpath, modelpath)\n",
    "\n",
    "# display heatmap to show lots of infeas nodes \n",
    "Source.from_file(bad_branch_map[-1]) "
   ]
  },
  {
   "cell_type": "code",
   "execution_count": null,
   "metadata": {},
   "outputs": [],
   "source": [
    "# Rx ratio and phase coupling ratio informs bad branches cont.\n",
    "# place an actuator on a 'good' branch and run runHeatMapProcess\n",
    "#'good' branch has small phase coupling and/or rx values\n",
    "best_branch_indx = min(sum_branches, key = sum_branches.get)\n",
    "best_mixdVal_branch = branches[best_branch_indx]\n",
    "set_act = [best_mixdVal_branch[len(best_mixdVal_branch)//2]]\n",
    "set_perf = [best_mixdVal_branch[len(best_mixdVal_branch)//2]]\n",
    "node_lst = list(graphNodes_nosub)\n",
    "node_lst.remove(set_act[0])\n",
    "test_act = [node_lst[0]]\n",
    "test_perf = set_perf\n",
    "feas_configs, lzn_error_run_sum, good_branch_map = hm.runHeatMapProcess(fin_feeder, set_act, set_perf, test_act, test_perf, node_index_map, substation_name, depths, file_name,Vbase_ll, Sbase, load_data, headerpath, modelpath)\n",
    "\n",
    "# display heatmap to show lots of feas nodes \n",
    "Source.from_file(good_branch_map[-1])"
   ]
  }
 ],
 "metadata": {
  "kernelspec": {
   "display_name": "Python 3",
   "language": "python",
   "name": "python3"
  },
  "language_info": {
   "codemirror_mode": {
    "name": "ipython",
    "version": 3
   },
   "file_extension": ".py",
   "mimetype": "text/x-python",
   "name": "python",
   "nbconvert_exporter": "python",
   "pygments_lexer": "ipython3",
   "version": "3.7.1"
  }
 },
 "nbformat": 4,
 "nbformat_minor": 4
}
