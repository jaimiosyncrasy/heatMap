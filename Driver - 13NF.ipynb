{
 "cells": [
  {
   "cell_type": "code",
   "execution_count": null,
   "metadata": {},
   "outputs": [],
   "source": [
    "# Below we have sections of short driver scripts that run different parts of the heatmap code\n",
    "# Not all functions in the 5 functiond definition .py's are called yet,\n",
    "# but the ones that are called so far compile below without error\n",
    "\n",
    "#%load_ext autoreload\n",
    "#%autoreload 2"
   ]
  },
  {
   "cell_type": "code",
   "execution_count": null,
   "metadata": {
    "scrolled": true
   },
   "outputs": [],
   "source": [
    "import importlib\n",
    "import setup_nx # your own module, setup.nx.py\n",
    "import numpy as np\n",
    "import math as m\n",
    "import statistics as st\n",
    "import cmath\n",
    "import matplotlib.pyplot as plt \n",
    "import itertools\n",
    "from operator import add\n",
    "importlib.reload(setup_nx)\n",
    "from setup_nx import *\n",
    "from graphviz import Source, render\n",
    "\n",
    "import datetime\n",
    "import time\n",
    "\n",
    "import my_feeder_funcs as ff\n",
    "import my_impedance_funcs as imp\n",
    "import my_configVis_funcs as vis\n",
    "import my_detControlMatExistence_funcs as ctrl\n",
    "import my_detLznRange_funcs as lzn\n",
    "import my_heatmapSetup_funcs as hm\n"
   ]
  },
  {
   "cell_type": "code",
   "execution_count": null,
   "metadata": {},
   "outputs": [],
   "source": [
    "# List functions in each helper .py\n",
    "help(ff)\n",
    "print(\"----------------------------------------------------------\")\n",
    "help(imp)\n",
    "print(\"----------------------------------------------------------\")\n",
    "help(vis)\n",
    "print(\"----------------------------------------------------------\")\n",
    "help(lzn)\n",
    "print(\"----------------------------------------------------------\")\n",
    "help(hm)\n",
    "print(\"----------------------------------------------------------\")\n",
    "help(ctrl)"
   ]
  },
  {
   "cell_type": "code",
   "execution_count": null,
   "metadata": {},
   "outputs": [],
   "source": [
    "# [Essential] specify input feeder data\n",
    "\n",
    "#-----------------------------------------------------------------\n",
    "'specifying file paths'\n",
    "# Enter the path/name of the model's excel file and import\n",
    "    # All GridBright load files should be in the following folder\n",
    "    #loadfolder = \"/Users/jasperpakshong/Documents/Berkeley/ENERGISE/IEEE13/\"\n",
    "    #loadpath = loadfolder + \"IEEE13testload_w_extreme_act.xlsx\"\n",
    "\n",
    "    # filepath = \"IEEE13/\"\n",
    "    # modelpath = filepath + \"001 phasor08_IEEE13_OPAL.xls\"\n",
    "    # loadfolder = \"IEEE13/\"\n",
    "    # loadpath = loadfolder + \"001_phasor08_IEEE13_norm03_HIL_7_1.xlsx\"\n",
    "\n",
    "    #filepath = \"AL0001/\"\n",
    "    #modelpath = filepath + \"AL0001_OPAL_working.xls\"\n",
    "    #loadfolder = \"AL0001/\"\n",
    "    #loadpath = loadfolder + \"AL0001_tvload_afternoon1h.csv\"\n",
    "    \n",
    "    #filepath = \"13NF_balanced/\"\n",
    "    #modelpath = filepath + \"016 GB_IEEE13_balance_all_ver2.xls\"\n",
    "    #loadfolder = \"13NF_balanced/\"\n",
    "    #loadpath = loadfolder + \"016 GB_IEEE13_balance all ver2_time_sigBuilder_secondWise_norm03.csv\"\n",
    "\n",
    "filepath = \"13NF_balanced/\"\n",
    "modelpath = filepath + \"impedMod_IEEE13 unbal copy.xlsx\" #\"016 GB_IEEE13_balance_all_ver2.xls\"\n",
    "loadfolder = \"13NF_balanced/\"\n",
    "loadfile = \"016 GB_IEEE13_balance all ver2_time_sigBuilder_secondwise_norm03.csv\"\n",
    "loadpath = loadfolder + loadfile\n",
    "\n",
    "#==========================================================================================================\n",
    "\n",
    "'specifying file name'\n",
    "#file_name = string specifying name of dot file created when make_graph() is called\n",
    "file_name = '13NF_test.dot'\n",
    "\n",
    "#==========================================================================================================\n",
    "\n",
    "'list actuator locations and performance node'\n",
    "# all_act_locs = list of node names as strings where actuators will be placed\n",
    "all_act_locs = ['bus_651','bus_611','bus_633']\n",
    "perf_nodes = ['bus_651','bus_611','bus_633']\n",
    "\n",
    "#==========================================================================================================\n",
    "\n",
    "'Specify substation kV, kVA bases, name, and the number of timesteps in the load data'\n",
    "Vbase_ll = 4160\n",
    "Vbase = Vbase_ll / np.sqrt(3)\n",
    "Sbase = 5000/3\n",
    "substation_name = 'bus_650'\n",
    "timesteps = 1\n",
    "\n",
    "'DO NOT NEED TO EDIT THIS CELL BEFORE RUNNING'\n",
    "\n",
    "ts = time.time()\n",
    "print()\n",
    "print(datetime.datetime.fromtimestamp(ts))\n",
    "\n",
    "plot = 0 #turn plot on/off\n",
    "\n",
    "depths = {}\n",
    "leaves = []"
   ]
  },
  {
   "cell_type": "code",
   "execution_count": null,
   "metadata": {},
   "outputs": [],
   "source": [
    "# --------- [ESSENTIAL] create feeder obj ----------\n",
    "fin_feeder = ff.feeder_init(modelpath,loadfolder,loadpath,timesteps,Vbase_ll,Sbase,depths,leaves)\n",
    "print(\"Finished initializing feeder\")\n",
    "ff.make_graph(fin_feeder, file_name)\n",
    "node_index_map = hm.createNodeIndexMap(fin_feeder) #node indices for indicMat and F matrix\n",
    "\n",
    "print(depths) # should be populated\n",
    "\n",
    "count = 0 # print list of buses in network\n",
    "for i in fin_feeder.network:    \n",
    "    print(i) \n",
    "    count += 1\n",
    "    if count >= 10:\n",
    "        break\n",
    "    \n",
    "Source.from_file(file_name)\n",
    "#^ need this to plot feeder"
   ]
  },
  {
   "cell_type": "code",
   "execution_count": null,
   "metadata": {},
   "outputs": [],
   "source": [
    "# ------ [Optional] run impedance-related functions --------\n",
    "slack_bus = None\n",
    "for bus_name, depth in depths.items():\n",
    "    if depth == 0:\n",
    "        slack_bus = bus_name\n",
    "        break\n",
    "print(depths)\n",
    "# modify node names when change feeders\n",
    "imp.plot_histogram_RX_ratios(fin_feeder,leaves,slack_bus,depths,leaves_only = True)\n",
    "print('Z between buses:')\n",
    "print(imp.get_total_impedance_between_two_buses(fin_feeder, 'bus_632', 'bus_684',depths))\n",
    "print('\\nZ to substation:')\n",
    "print(imp.get_total_impedance_from_substation(fin_feeder, 'bus_632',depths))\n",
    "print('\\nX/R ratio of path to substation:')\n",
    "print(imp.get_RX_ratio_tosubst(fin_feeder, 'bus_632',depths))\n",
    "# should check on how to format the printing do that it's to like 2 decimal places"
   ]
  },
  {
   "cell_type": "code",
   "execution_count": null,
   "metadata": {},
   "outputs": [],
   "source": [
    "# ----- run detLznRange ---------\n",
    "\n",
    "# detLznRange(feeder, Vbase_ll, Sbase, z12, act_locs)\n",
    "#^ calls computePQsweep, makePVcurve, makeQVcurve, computeLznItvl\n",
    "loadfolder = \"13NF_balanced/\"\n",
    "load_data = '001_phasor08_IEEE13_time_PVpen50_cloud_minutewise (1).csv'\n",
    "\n",
    "lzn.computePQsweep_timesteps(fin_feeder, loadfolder+load_data)\n"
   ]
  },
  {
   "cell_type": "code",
   "execution_count": null,
   "metadata": {},
   "outputs": [],
   "source": [
    "# ----- Evaluate detControlMatExistence ---------\n",
    "# bogus data just to run through it:\n",
    "\n",
    "n=1 # Temp\n",
    "A = np.identity(6*n)\n",
    "sz=(6*n,6*n)\n",
    "B=np.ones(sz) # TEMP: replace with call to createRXmatrices_3ph\n",
    "indicMat=np.identity(6*n) # TEMP: replace with actual config you want to evaluate\n",
    "#act_locs=\n",
    "#perf_nodes=\n",
    "#feeder=\n",
    "\n",
    "MYfeas,MYfeasFs,MYnumfeas,MYnumTried,MYnumact=ctrl.detControlMatExistence(A, B, indicMat)\n",
    "#MYfeas,MYfeasFs,MYnumfeas,MYnumTried,MYnumact=detControlMatExistence(feeder, act_locs, perf_nodes,A, B, indicMat):\n",
    "\n",
    "print(\"--------------------- Outputs ----------------------\")\n",
    "print(\"Myfeas=\",MYfeas)\n",
    "print(\"MyfeasFs=\\n\",MYfeasFs)\n",
    "print(\"Mynumfeas=\",MYnumfeas)\n",
    "print(\"MynumTried=\",MYnumTried)\n",
    "print(\"Mynumact=\",MYnumact)\n",
    "\n",
    "print('computeFeas_v1 returns:')\n",
    "hm.computeFeas_v1(fin_feeder, perf_nodes, A, B, indicMat,substation_name,depths)\n"
   ]
  },
  {
   "cell_type": "code",
   "execution_count": null,
   "metadata": {},
   "outputs": [],
   "source": [
    "# ----- Create Fig 1 ---------\n",
    "# start with just binary heat map across all nodes\n",
    "# based on heat map colors, maybe try: branches color-coded and marked feasible (green outline) or infeasible (red outline) \n",
    "# define feeder, define node_index_map\n",
    "# define act locs = {}\n",
    "# perf node = colocated with candidate act node <-- Brittany can we do this?\n",
    "\n",
    "# colocated?\n",
    "all_act_locs = ['bus_651','bus_611','bus_633']\n",
    "perf_nodes = ['bus_651','bus_611','bus_633']\n",
    "lst_feas_configs, lzn_error_run_sum=hm.runHeatMapProcess(fin_feeder, all_act_locs, perf_nodes, node_index_map,depths,file_name)\n",
    "print(lst_feas_configs[0])\n",
    "print(lst_feas_configs[7])"
   ]
  },
  {
   "cell_type": "code",
   "execution_count": null,
   "metadata": {},
   "outputs": [],
   "source": [
    "# ----- Create Figure 2 ---------\n",
    "\n",
    "ratios = vis.phaseCouplingPerNode(fin_feeder,depths)\n",
    "vis.createColorMap(fin_feeder, ratios)\n",
    "Source.from_file('colorMap')"
   ]
  },
  {
   "cell_type": "code",
   "execution_count": null,
   "metadata": {},
   "outputs": [],
   "source": [
    "# TEST BLOCK for Run computeFParamSpace\n",
    "#test=10\n",
    "#print(fin_feeder)\n",
    "#print(fin_feeder.loadpath)\n",
    "#R,X=hm.createRXmatrices_3ph(fin_feeder, node_index_map,depths)\n",
    "#print(fin_feeder.network.nodes)\n",
    "#print(dir(fin_feeder))"
   ]
  },
  {
   "cell_type": "code",
   "execution_count": null,
   "metadata": {
    "scrolled": false
   },
   "outputs": [],
   "source": [
    "# ----- Run computeFParamSpace ---------\n",
    "\n",
    "#importlib.reload(ctrl)\n",
    "\n",
    "all_act_locs = list(['bus_675'])\n",
    "perf_nodes = list(['bus_675'])\n",
    "R,X=hm.createRXmatrices_3ph(fin_feeder, node_index_map,depths)\n",
    "\n",
    "ctrl.computeFParamSpace_v2(fin_feeder, all_act_locs, perf_nodes,R,X,depths,node_index_map)\n",
    "# this function prints Zgood (from R and X matrices) and Z_toSubst, where Z_toSubst is correct but doesnt match Zgood. Investigate\n",
    "\n",
    "#ctrl = importlib.reload(ctrl)"
   ]
  },
  {
   "cell_type": "code",
   "execution_count": null,
   "metadata": {},
   "outputs": [],
   "source": [
    "# -------- Solve 3-ph fwd-bwd sweep for toy example ----------\n",
    "# values have been validated in matlab\n",
    "R12=np.identity(3)\n",
    "X12=3*np.identity(3)\n",
    "V1=1*np.ones((3,1))\n",
    "V2=np.array([[0.97, 0.98, 0.985]]).transpose()\n",
    "del2=np.array([[2, -1, -7]]).transpose() # degrees\n",
    "V2cplx=np.multiply(V2,np.cos(del2*np.pi/180))+np.multiply(V2,np.sin(del2*np.pi/180)*1j)\n",
    "I=np.dot(np.linalg.inv(R12+1j*X12),V1-V2cplx) # I=YV, 3x1 = (3x3)(3x1) matrix mult\n",
    "S2=np.multiply(V2cplx,np.conj(I)); # 3x1=(3x1)(3x1) elementwise!\n",
    "P2=np.real(S2)\n",
    "Q2=np.imag(S2);\n",
    "\n",
    "# inputs: 3x3 matrices and 3x1 vectors\n",
    "V2_3ph,del2_3ph=lzn.solveFwdBwdSweep_2bus_3ph(R12, X12, V1, P2, Q2)\n",
    "# outputs: 3x1 vector for mag (Vpu), 3x1 vector for phase angle (degrees)\n",
    "print('V2_3ph=',V2_3ph)\n",
    "print('del2_3ph=',del2_3ph)"
   ]
  },
  {
   "cell_type": "code",
   "execution_count": null,
   "metadata": {},
   "outputs": [],
   "source": [
    "# Define Complex Config 1\n",
    "all_act_locs = ['bus_611','bus_675','bus_645','bus_652']\n",
    "perf_nodes = ['bus_671','bus_671','bus_632','bus_652']\n",
    "\n",
    "# Define Complex Config 2\n",
    "all_act_locs = ['bus_646','bus_692','bus_671','bus_675']\n",
    "perf_nodes = ['bus_680','bus_632','bus_632','bus_675']"
   ]
  },
  {
   "cell_type": "code",
   "execution_count": null,
   "metadata": {},
   "outputs": [],
   "source": [
    "# ------- Run evalConfig on complex config 1 ----------\n",
    "all_act_locs = ['bus_611','bus_675','bus_645','bus_652']\n",
    "perf_nodes = ['bus_671','bus_671','bus_632','bus_652']\n",
    "hm.eval_config(fin_feeder, all_act_locs,perf_nodes, node_index_map,substation_name,depths)\n",
    "    # ^ calls setupStateSPace,updateStateSpace,computeFeas_v1\n",
    "    # our R and X matrices are different between MATLAB and python..."
   ]
  },
  {
   "cell_type": "code",
   "execution_count": null,
   "metadata": {},
   "outputs": [],
   "source": []
  }
 ],
 "metadata": {
  "kernelspec": {
   "display_name": "Python 3",
   "language": "python",
   "name": "python3"
  },
  "language_info": {
   "codemirror_mode": {
    "name": "ipython",
    "version": 3
   },
   "file_extension": ".py",
   "mimetype": "text/x-python",
   "name": "python",
   "nbconvert_exporter": "python",
   "pygments_lexer": "ipython3",
   "version": "3.7.6"
  }
 },
 "nbformat": 4,
 "nbformat_minor": 4
}
