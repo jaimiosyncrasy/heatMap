{
 "cells": [
  {
   "cell_type": "code",
   "execution_count": null,
   "metadata": {},
   "outputs": [],
   "source": [
    "# ----------- DRIVER PSEUDOCODE ------------------------------------\n",
    "# jaimie: Fig. 1, 4, 5, 6s\n",
    "# brittany: Fig. 2, 3, Table 1, figure 7\n",
    "\n",
    "# Create Fig 1: # start with just binary heat map across all nodes\n",
    "# based on heat map colors, maybe try: branches color-coded and marked feasible (green outline) or infeasible (red outline) \n",
    "# define feeder, define node_index_map\n",
    "# define act locs = {}\n",
    "# perf node = colocated with candidate act node <-- Brittany can we do this?\n",
    "runHeatMapProcess(feeder, all_act_locs, perf_node, node_index_map)\n",
    "\n",
    "# Create Figure 4: \n",
    "# first diagram same as fig 1\n",
    "# 2nd diagram from runHeatMapProcess with act locs={xxx,xxx}\n",
    "runHeatMapProcess(feeder, all_act_locs, perf_node, node_index_map)\n",
    "\n",
    "# Create Fig 2:Color map overlayed onto feeder diagram that shows amount of phase coupling\n",
    "# write function phaseCouplingPerNode that looks at the cross terms in the 3x3 impedance path from node to susbtation,\n",
    "# and ratio=sum(cross terms)/sum(diag terms) so that we have a ratio so we can account different line lengths. \n",
    "# then loop over all nodes to get a list of ratios\n",
    "# input for this function is only the feeder object, and returns a list of {one ratio per node for all feeder nodes}\n",
    "# write function createColorMap that creates color map on feeder diagram where the color values are exactly the ratios list\n",
    "createColorMap(feeder,values_list)\n",
    "get_total_impedance_from_substation(feeder, node_name)\n",
    "\n",
    "# Create Fig 3: Color map overlayed onto feeder diagram that shows linearization error for co-located actuator/perf configs\n",
    "# function calls to make Fig 1 should also produce the linearization errors you need for this. Save them into a list\n",
    "createColorMap(feeder,values_list)\n",
    "\n",
    "# Table 1: complex config 1, computed line loss compared to true line loss, for the 4 special timesteps of the day\n",
    "# true line loss will come from RTlab sims, Jaimie will create this\n",
    "# write function evalConfig(feeder, all_act_locs, perf_node, node_index_map) that just evaluates feasibility/lzn error of a single config\n",
    "# compute_line_losses_multiphase--> should print the total amt of line loss across the feeder for that config at that timestep\n",
    "\n",
    "# Fig 7: For complex config 1, true and linearized curves of a) real power vs. voltage magnitude, \n",
    "# b) reactive power vs. voltage magnitude, c) real power vs. phase angle, and d) reactive power vs. phase angle\n",
    "\n",
    "# Create Fig 5: Two feeder diagrams for 2 complex config1 and 2, labeled with act/perf node locations \n",
    "# note: no feasibilty green/red marked\n",
    "# create function that generates a graph and marks actuator and performance nodes. Calls these functions:\n",
    "markActLoc(graph, act_loc)\n",
    "# create function markPercLoc(graph,perf_loc)\n",
    "\n",
    "# Fig 6: State space simulation showing a) convergence to the phasor target for  config 1\n",
    "# and b) divergence from the phasor target for config 2\n",
    "# Jaimie either use MATLAB code to create sims or RTlab\n",
    "\n",
    "# Table 2: feasible and infeasible results for large number of assessed configurations with different\n",
    "# number of actuators on 13NF, 123NF, and 647NF"
   ]
  }
 ],
 "metadata": {
  "kernelspec": {
   "display_name": "Python 3",
   "language": "python",
   "name": "python3"
  },
  "language_info": {
   "codemirror_mode": {
    "name": "ipython",
    "version": 3
   },
   "file_extension": ".py",
   "mimetype": "text/x-python",
   "name": "python",
   "nbconvert_exporter": "python",
   "pygments_lexer": "ipython3",
   "version": "3.7.6"
  }
 },
 "nbformat": 4,
 "nbformat_minor": 4
}
