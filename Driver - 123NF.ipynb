{
 "cells": [
  {
   "cell_type": "code",
   "execution_count": null,
   "metadata": {},
   "outputs": [],
   "source": [
    "# Below we have sections of short driver scripts that run different parts of the heatmap code\n",
    "# Not all functions in the 5 functiond definition .py's are called yet,\n",
    "# but the ones that are called so far compile below without error"
   ]
  },
  {
   "cell_type": "code",
   "execution_count": null,
   "metadata": {
    "scrolled": true
   },
   "outputs": [],
   "source": [
    "import importlib\n",
    "import setup_nx # your own module, setup.nx.py\n",
    "import numpy as np\n",
    "import math as m\n",
    "import statistics as st\n",
    "import cmath\n",
    "import matplotlib.pyplot as plt \n",
    "import itertools\n",
    "import random\n",
    "from operator import add\n",
    "importlib.reload(setup_nx)\n",
    "from setup_nx import *\n",
    "from graphviz import Source, render\n",
    "\n",
    "import datetime\n",
    "import time\n",
    "\n",
    "import my_feeder_funcs as ff\n",
    "import my_impedance_funcs as imp\n",
    "import my_configVis_funcs as vis\n",
    "import my_detControlMatExistence_funcs as ctrl\n",
    "import my_detLznRange_funcs as lzn\n",
    "import my_heatmapSetup_funcs as hm\n"
   ]
  },
  {
   "cell_type": "code",
   "execution_count": null,
   "metadata": {},
   "outputs": [],
   "source": [
    "# # List functions in each helper .py\n",
    "# help(ff)\n",
    "# print(\"----------------------------------------------------------\")\n",
    "# help(imp)\n",
    "# print(\"----------------------------------------------------------\")\n",
    "# help(vis)\n",
    "# print(\"----------------------------------------------------------\")\n",
    "# help(lzn)\n",
    "# print(\"----------------------------------------------------------\")\n",
    "# help(hm)\n",
    "# print(\"----------------------------------------------------------\")\n",
    "# help(ctrl)"
   ]
  },
  {
   "cell_type": "code",
   "execution_count": null,
   "metadata": {},
   "outputs": [],
   "source": [
    "# [Essential] specify input feeder data\n",
    "\n",
    "#-----------------------------------------------------------------\n",
    "'specifying file paths'\n",
    "# Enter the path/name of the model's excel file and import\n",
    "    # All GridBright load files should be in the following folder\n",
    "    #loadfolder = \"/Users/jasperpakshong/Documents/Berkeley/ENERGISE/IEEE13/\"\n",
    "    #loadpath = loadfolder + \"IEEE13testload_w_extreme_act.xlsx\"\n",
    "\n",
    "    # filepath = \"IEEE13/\"\n",
    "    # modelpath = filepath + \"001 phasor08_IEEE13_OPAL.xls\"\n",
    "    # loadfolder = \"IEEE13/\"\n",
    "    # loadpath = loadfolder + \"001_phasor08_IEEE13_norm03_HIL_7_1.xlsx\"\n",
    "\n",
    "    #filepath = \"AL0001/\"\n",
    "    #modelpath = filepath + \"AL0001_OPAL_working.xls\"\n",
    "    #loadfolder = \"AL0001/\"\n",
    "    #loadpath = loadfolder + \"AL0001_tvload_afternoon1h.csv\"\n",
    "      \n",
    "    #filepath = \"13NF_balanced/\"\n",
    "    #modelpath = filepath + \"016 GB_IEEE13_balance_all_ver2.xls\"\n",
    "    #loadfolder = \"13NF_balanced/\"\n",
    "    #loadpath = loadfolder + \"016 GB_IEEE13_balance all ver2_time_sigBuilder_secondWise_norm03.csv\"\n",
    "\n",
    "filepath = \"123NF/\"\n",
    "modelpath = filepath + \"004_GB_IEEE123_OPAL.xls\"\n",
    "loadfolder = \"123NF/\"\n",
    "loadpath = loadfolder + \"004_GB_IEEE123_time_sigBuilder_secondwise_norm1.csv\"\n",
    "headerpath = '??13NF_balanced/001_phasor08_IEEE13_time_header.csv'\n",
    "load_data = '??13NF_balanced/001_phasor08_IEEE13_time_PVpen50_cloud_minutewise (1).csv'\n",
    "\n",
    "\n",
    "#==========================================================================================================\n",
    "\n",
    "'specifying file name'\n",
    "#file_name = string specifying name of dot file created when make_graph() is called\n",
    "file_name = '123NF_test.dot'\n",
    "\n",
    "\n",
    "#==========================================================================================================\n",
    "\n",
    "'Specify substation kV, kVA bases, name, and the number of timesteps in the load data'\n",
    "Vbase_ll = 4160\n",
    "Vbase = Vbase_ll / np.sqrt(3)\n",
    "Sbase = 5000/3\n",
    "substation_name = 'bus_150'\n",
    "timesteps = 1\n",
    "\n",
    "'DO NOT NEED TO EDIT THIS CELL BEFORE RUNNING'\n",
    "\n",
    "ts = time.time()\n",
    "print()\n",
    "print(datetime.datetime.fromtimestamp(ts))\n",
    "\n",
    "plot = 0 #turn plot on/off\n",
    "\n",
    "depths = {}\n",
    "leaves = []"
   ]
  },
  {
   "cell_type": "code",
   "execution_count": null,
   "metadata": {},
   "outputs": [],
   "source": [
    "# [ESSENTIAL] create feeder obj\n",
    "fin_feeder = ff.feeder_init(modelpath,loadfolder,loadpath,timesteps,Vbase_ll,Sbase,depths,leaves)\n",
    "print(\"Finished initializing feeder\")\n",
    "ff.make_graph(fin_feeder, file_name)\n",
    "node_index_map = hm.createNodeIndexMap(fin_feeder) #node indices for indicMat and F matrix\n",
    "R,X=hm.createRXmatrices_3ph(fin_feeder, node_index_map,depths)\n",
    "\n",
    "print(depths) # should be populated\n",
    "\n",
    "count = 0 # print list of buses in network\n",
    "for i in fin_feeder.network:    \n",
    "    print(i) \n",
    "    count += 1\n",
    "    if count >= 10:\n",
    "        break\n",
    "    \n",
    "Source.from_file(file_name)\n",
    "#^ need this to plot feeder"
   ]
  },
  {
   "cell_type": "code",
   "execution_count": null,
   "metadata": {},
   "outputs": [],
   "source": [
    "import csv \n",
    "graph = fin_feeder.network\n",
    "#print(graph.nodes)\n",
    "\n",
    "# write busnames into a csv\n",
    "# with open(\"123NF_busList.csv\", 'w', newline='') as csvfile:\n",
    "#     spamwriter = csv.writer(csvfile, delimiter='-',\n",
    "#                             quotechar='|', quoting=csv.QUOTE_MINIMAL)\n",
    "#     spamwriter.writerows(graph.nodes)"
   ]
  },
  {
   "cell_type": "code",
   "execution_count": null,
   "metadata": {},
   "outputs": [],
   "source": [
    "# [Optional] run impedance-related functions\n",
    "slack_bus = None\n",
    "for bus_name, depth in depths.items():\n",
    "    if depth == 0:\n",
    "        slack_bus = bus_name\n",
    "        break\n",
    "        \n",
    "# -------------------- now we call functions: ---------------------------------------------\n",
    "#print(depths)\n",
    "# modify node names when change feeders\n",
    "#plot_histogram_RX_ratios(fin_feeder, leaves_only = True)\n",
    "print('Z between buses:')\n",
    "print(np.around(imp.get_total_impedance_between_two_buses(fin_feeder, 'bus_37', 'bus_15',depths),2))\n",
    "print('\\nBus 49 Z to substation:')\n",
    "print(np.around(imp.get_total_impedance_from_substation(fin_feeder, 'bus_49',depths),2))\n",
    "print('\\nR/X ratio of bus 49 to substation:')\n",
    "print(imp.get_RX_ratio_tosubst(fin_feeder,'bus_49',depths))\n",
    "# should check on how to format the printing do that it's to like 2 decimal places\n",
    "\n",
    "print('R/X Ratios:')\n",
    "print('\\n67 to 79: ')\n",
    "print(imp.get_RX_ratio_between_two_buses(fin_feeder, 'bus_67', 'bus_79',depths))\n",
    "print('\\n67 to 96: ')\n",
    "print(imp.get_RX_ratio_between_two_buses(fin_feeder, 'bus_67', 'bus_96',depths))\n",
    "print('\\n67 to 104: ')\n",
    "print(imp.get_RX_ratio_between_two_buses(fin_feeder, 'bus_67', 'bus_104',depths))\n",
    "print('\\n67 to 114: ')\n",
    "print(imp.get_RX_ratio_between_two_buses(fin_feeder, 'bus_67', 'bus_114',depths))\n",
    "print('\\n57 to 66: ')\n",
    "print(imp.get_RX_ratio_between_two_buses(fin_feeder, 'bus_57', 'bus_66',depths))\n",
    "print('\\n18 to 251: ')\n",
    "print(imp.get_RX_ratio_between_two_buses(fin_feeder, 'bus_18', 'bus_251',depths))\n",
    "print('\\n35 to 151: ')\n",
    "print(imp.get_RX_ratio_between_two_buses(fin_feeder, 'bus_35', 'bus_151',depths))"
   ]
  },
  {
   "cell_type": "code",
   "execution_count": null,
   "metadata": {},
   "outputs": [],
   "source": [
    "# Print 3-phase node_index table\n",
    "my_buses=list(node_index_map.keys())\n",
    "my_list=list(node_index_map.values())\n",
    "list1 = [(i+1) * 3-2 for i in my_list]\n",
    "list2 = [(i+1) * 3-1 for i in my_list]\n",
    "list3 = [(i+1) * 3-0 for i in my_list]\n",
    "for my_buses,list1, list2,list3 in zip(my_buses,list1,list2,list3):\n",
    "    print(my_buses,list1, list2,list3)\n",
    "#Table format: [bus_name, phaseA idx, phaseB idx, phaseC idx]\n",
    "# indices are shifted by 1 to be for MATLAB (starts at 1 not 0)"
   ]
  },
  {
   "cell_type": "code",
   "execution_count": null,
   "metadata": {
    "scrolled": true
   },
   "outputs": [],
   "source": [
    "# R is of size 387, which is 129*3, so set n=129\n",
    "n=129\n",
    "A, B = hm.setupStateSpace(n,fin_feeder, node_index_map,depths)\n",
    "print('R = '+str(R))\n",
    "print('X = '+str(X))\n",
    "print('A = '+str(A))\n",
    "print('B = '+str(B))\n",
    "print(A.shape)\n",
    "print(B.shape)\n",
    "\n",
    "# write A and B matrices to csv\n",
    "#np.savetxt(\"123NF_Amat.csv\", A, delimiter=\",\")\n",
    "#np.savetxt(\"123NF_Bmat.csv\", B, delimiter=\",\")\n",
    "\n",
    "# Save R and X matrices to csv to import into matlab\n",
    "# np.savetxt reference: https://thispointer.com/how-to-save-numpy-array-to-a-csv-file-using-numpy-savetxt-in-python/\n",
    "#np.savetxt('Rmat_123NF.csv', R, delimiter=',')\n",
    "#np.savetxt('Xmat_123NF.csv', X, delimiter=',')"
   ]
  },
  {
   "cell_type": "code",
   "execution_count": null,
   "metadata": {},
   "outputs": [],
   "source": [
    "# Create figure 2\n",
    "ratios = vis.phaseCouplingPerNode(fin_feeder,depths)\n",
    "vis.createColorMap(fin_feeder, ratios, 'fig2_colorMap_123NF')\n",
    "Source.from_file('fig2_colorMap_123NF') # display graph in notebook\n",
    "ff.clear_graph(fin_feeder)\n"
   ]
  },
  {
   "cell_type": "code",
   "execution_count": null,
   "metadata": {},
   "outputs": [],
   "source": [
    "# detLznRange(feeder, Vbase_ll, Sbase, z12, act_locs)\n",
    "#^ calls computePQsweep, makePVcurve, makeQVcurve, computeLznItvl\n",
    "#loadfolder = \"13NF_balanced/\"\n",
    "#load_data = '001_phasor08_IEEE13_time_PVpen50_cloud_minutewise (1).csv'\n",
    "\n",
    "#lzn.computePQsweep_timesteps(fin_feeder, loadfolder+load_data)\n"
   ]
  },
  {
   "cell_type": "code",
   "execution_count": null,
   "metadata": {},
   "outputs": [],
   "source": [
    "# commented out because takes LONG time to evaluate co-located at every node of 123NF\n",
    "#-----------------------------------------------\n",
    "\n",
    "# Create Fig 1: # start with just binary heat map across all nodes\n",
    "# based on heat map colors, maybe try: branches color-coded and marked feasible (green outline) or infeasible (red outline) \n",
    "\n",
    "# # find good colocated?\n",
    "# all_act_locs = []\n",
    "# perf_nodes = []\n",
    "# # empty act locs asks heatMapProcess to create heatmap for empty network, i.e. feas of placing 1 co-located actuator at each loc\n",
    "# feas_configs, heatMapNames=hm.find_good_colocated(fin_feeder, [], node_index_map,substation_name,depths, file_name)\n",
    "# print('----------- Feas configs are: ---------')\n",
    "# print(feas_configs)\n",
    "# Source.from_file(heatMapNames[0]) # display graph in notebook"
   ]
  },
  {
   "cell_type": "code",
   "execution_count": null,
   "metadata": {
    "scrolled": true
   },
   "outputs": [],
   "source": [
    "# ----- Run computeFParamSpace ---------\n",
    "all_act_locs = ['bus_25','bus_39','bus_56','bus_108'] # 49, then 76, then 65\n",
    "perf_nodes = ['bus_25','bus_39','bus_56','bus_108']\n",
    "Fq_ub,Fp_ub=ctrl.computeFParamSpace_v2(fin_feeder, all_act_locs, perf_nodes,R,X,depths,node_index_map)\n",
    "# this function prints Zgood (from R and X matrices) and Z_toSubst, where Z_toSubst is correct but doesnt match Zgood. Investigate\n",
    "print('(Fp_ub,Fq_ub)=(',Fp_ub,',',Fq_ub,')')\n",
    "\n",
    "\n",
    "vis.markActuatorConfig(all_act_locs, fin_feeder, file_name)"
   ]
  },
  {
   "cell_type": "code",
   "execution_count": null,
   "metadata": {},
   "outputs": [],
   "source": [
    "# -------Create Fig 4 ----------\n",
    "# ----------- Demo of RHP on FEAS config --------------\n",
    "\n",
    "# binary heat map that shows good locations to place a new actuator when\n",
    "# a) there are 0 existing actuators, b) there is 1 existing actuator, and c) there are two existing actuators.\n",
    "# actuator list = complex config 1, i.e. at each step we choose one of the good places and buildup to complex config 1\n",
    "\n",
    "# #complex config 1 (feas)\n",
    "#all_act_locs = ['bus_49','bus_76','bus_65'] # 49, then 76, then 65\n",
    "#perf_nodes = ['bus_49','bus_76','bus_65']\n",
    "# 16336 seconds \n",
    "\n",
    "#complex config 2 (feas)\n",
    "# all_act_locs = ['bus_25','bus_39','bus_56','bus_108'] # 49, then 76, then 65\n",
    "# perf_nodes = ['bus_25','bus_39','bus_56','bus_108']\n",
    "# 30206 seconds\n",
    "\n",
    "# #complex config 3 (feas)\n",
    "# all_act_locs = ['bus_105','bus_112','bus_100','bus_91'] # 49, then 76, then 65\n",
    "# perf_nodes = ['bus_105','bus_112','bus_100','bus_91']\n",
    "# # time taken = 21674 seconds\n",
    "\n",
    "# #complex config 4, many act 1 perf\n",
    "#all_act_locs = ['bus_42','bus_42','bus_42','bus_42'] # 49, then 76, then 65\n",
    "#perf_nodes = ['bus_151','bus_46','bus_251','bus_8']\n",
    "# # time taken = XXX seconds\n",
    "\n",
    "      \n",
    "t = time.time()\n",
    "# complex config 2\n",
    "all_act_locs = ['bus_25','bus_39','bus_56','bus_108'] # 49, then 76, then 65\n",
    "perf_nodes = ['bus_25','bus_39','bus_56','bus_108']\n",
    "lst_feas_configs, lzn_error_run_sum,heatMapNames=hm.runHeatMapProcess(fin_feeder, all_act_locs, perf_nodes, node_index_map,substation_name,depths,file_name)\n",
    "elapsed = time.time() - t\n",
    "print('Time elapsed=',elapsed)\n",
    "      \n",
    "    "
   ]
  },
  {
   "cell_type": "code",
   "execution_count": null,
   "metadata": {},
   "outputs": [],
   "source": [
    "# all_act_locs = ['bus_49','bus_76','bus_152'] # 49, then 76, then 65\n",
    "# perf_nodes = ['bus_49','bus_76','bus_65']\n",
    "# feas, maxError,numfeas=hm.eval_config(fin_feeder, all_act_locs,perf_nodes, node_index_map,substation_name,depths,file_name)"
   ]
  },
  {
   "cell_type": "code",
   "execution_count": null,
   "metadata": {},
   "outputs": [],
   "source": [
    "# # Place maximum number of colocated act/perf nodes on network and display configuration\n",
    "# max_act_config = hm.place_max_colocated_acts(fin_feeder, file_name, node_index_map, depths, substation_name)\n",
    "# Source.from_file('actConfig_max_coloc_act_config')\n"
   ]
  },
  {
   "cell_type": "code",
   "execution_count": null,
   "metadata": {},
   "outputs": [],
   "source": [
    "# if file_name=='13NF_test.dot':\n",
    "#     substIdx=[6, 7] # substation index\n",
    "# elif file_name=='123NF_test.dot':\n",
    "#     substIdx=[22, 24]\n",
    "# elif file_name=='PL0001_test.dot':\n",
    "#     substIdx=[22, 24] # dunno yet\n",
    "# graphNodes_nosub=np.delete(graph.nodes,substIdx) # vector of strings\n",
    "# idx=range(len(graphNodes_nosub))\n",
    "# #print(idx[3:]) # first 3 elements\n",
    "# #print(idx[:3]) # 3th to end\n",
    "\n",
    "# print(graphNodes_nosub[51:79+1])\n",
    "# all_act_locs=graphNodes_nosub[51:79+1] # all non-substation nodes\n",
    "# print(all_act_locs)\n",
    "# n=len(all_act_locs)\n",
    "# perf_nodes=['bus_46'] * n\n",
    "# feas, maxError,numfeas=hm.eval_config(fin_feeder, all_act_locs,perf_nodes, node_index_map,substation_name,depths,file_name)\n",
    "# vis.markActuatorConfig(all_act_locs, fin_feeder, file_name)\n",
    "\n",
    "# print(graphNodes_nosub[45:79+1])\n",
    "# all_act_locs=graphNodes_nosub[45:79+1] # all non-substation nodes\n",
    "# perf_nodes=['bus_46'] * n\n",
    "# feas, maxError,numfeas=hm.eval_config(fin_feeder, all_act_locs,perf_nodes, node_index_map,substation_name,depths,file_name)\n"
   ]
  },
  {
   "cell_type": "code",
   "execution_count": null,
   "metadata": {
    "scrolled": true
   },
   "outputs": [],
   "source": [
    "# # Find index in graphNodes_nosub array of busnames strings\n",
    "# if file_name=='13NF_test.dot':\n",
    "#     substIdx=[6, 7] # substation index\n",
    "# elif file_name=='123NF_test.dot':\n",
    "#     substIdx=[22, 24]\n",
    "# elif file_name=='PL0001_test.dot':\n",
    "#     substIdx=[22, 24] # dunno yet\n",
    "# graphNodes_nosub=np.delete(graph.nodes,substIdx) # vector of strings \n",
    "# bus2find='bus_35'\n",
    "# idx = [idx for idx, element in enumerate(graphNodes_nosub) if element==bus2find]\n",
    "# print(idx)\n",
    "\n"
   ]
  },
  {
   "cell_type": "code",
   "execution_count": null,
   "metadata": {},
   "outputs": [],
   "source": [
    "Source.from_file(heatMapNames[0]) # display graph in notebook"
   ]
  },
  {
   "cell_type": "code",
   "execution_count": null,
   "metadata": {},
   "outputs": [],
   "source": [
    "Source.from_file(heatMapNames[1]) # display graph in notebook"
   ]
  },
  {
   "cell_type": "code",
   "execution_count": null,
   "metadata": {},
   "outputs": [],
   "source": [
    "Source.from_file(heatMapNames[2]) # display graph in notebook"
   ]
  }
 ],
 "metadata": {
  "kernelspec": {
   "display_name": "Python 3",
   "language": "python",
   "name": "python3"
  },
  "language_info": {
   "codemirror_mode": {
    "name": "ipython",
    "version": 3
   },
   "file_extension": ".py",
   "mimetype": "text/x-python",
   "name": "python",
   "nbconvert_exporter": "python",
   "pygments_lexer": "ipython3",
   "version": "3.7.6"
  }
 },
 "nbformat": 4,
 "nbformat_minor": 4
}
