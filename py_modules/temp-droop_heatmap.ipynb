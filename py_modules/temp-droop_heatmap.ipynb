{
 "cells": [
  {
   "cell_type": "code",
   "execution_count": null,
   "metadata": {},
   "outputs": [],
   "source": [
    "# here we write out different versions of existing heatmap functions to implement droop volt-var + volt-watt control"
   ]
  },
  {
   "cell_type": "code",
   "execution_count": null,
   "metadata": {},
   "outputs": [],
   "source": [
    "# changes to: my_heatmapSetup_funcs.py"
   ]
  },
  {
   "cell_type": "code",
   "execution_count": null,
   "metadata": {},
   "outputs": [],
   "source": [
    "# changes to: my_detControlMatExistence_funcs.py\n",
    "\n",
    "# indicMat is now 6n x 3n, [Fq Fp]'\n",
    "def assignF(Fp,Fq,indicMat): # algo similar to updateStateSpace\n",
    "    n=int(len(indicMat)/3) # indicMat is 6n x 3n\n",
    "    \n",
    "    # Make indicMat and F have the same sparsity structure, but different nonzero values\n",
    "    Hblock1=np.zeros((3*n,3*n))   \n",
    "    ridx,colidx=np.nonzero(indicMat[0:3*n,0:3*n]) # python indexing goes first to (last-1)          \n",
    "    for k in range(len(ridx)):\n",
    "            Hblock1[ridx[k]][colidx[k]] = Fq\n",
    "\n",
    "    Hblock2=np.zeros((3*n,3*n))   \n",
    "    ridx,colidx=np.nonzero(indicMat[3*n+1:,0:3*n]) \n",
    "    for k in range(len(ridx)):\n",
    "            Hblock2[ridx[k]][colidx[k]] = Fp\n",
    "  \n",
    "    F=np.concatenate(Hblock1,Hblock2,axis=0)\n",
    "    \n",
    "    #print(F)\n",
    "    print(\"Size of F=\",F.shape)\n",
    "    return F\n",
    "\n",
    "def setupStateSpace(n, feeder, node_index_map, depths):\n",
    "    #initializes state space matrices A and B\n",
    "    #n = number of nodes in network\n",
    "    #feeder = initiaized feeder object\n",
    "    #node_index_map = dictionary of node indices with node names as keys\n",
    "    A = np.identity(3*n)\n",
    "    R, X = createRXmatrices_3ph(feeder, node_index_map,depths)\n",
    "    B = np.concatenate((X, R), axis = 1)\n",
    "    return A, B\n",
    "\n",
    "\n",
    "# def updateStateSpace(feeder, n, act_locs, perf_nodes, node_index_map):\n",
    "def updateStateSpace(feeder, n, voltvar_act,voltvar_perf,voltwatt_act,voltwatt_perf,node_index_map):\n",
    "    #creates (6n*3n) matrix with 1 at (3i+ph)(3j+ph) for volt-watt control, and (3i+3n+ph)(3j+ph) for volt-var control\n",
    "    #in the above description, ph is the integer representation (a=0, b=1, c=2) of the phase intersection between the actuator and performance nodes\n",
    "    #if an actuator and performance node have no phases in common, a warning is printed\n",
    "    #n = number of nodes in network\n",
    "    #act_locs = list of actuators locations in network (list of strings)\n",
    "    #perf_nodes = list of performance nodes \n",
    "    #node_index_map = dictionary of node indices for indicMat and F matrix\n",
    "    indicMat = np.zeros((6*n,3*n))\n",
    "    for i in range(len(act_locs)): \n",
    "        act = act_locs[i]\n",
    "        perf = perf_nodes[i]\n",
    "        act_phases = feeder.busdict[act[4:]].phases\n",
    "        perf_phases = feeder.busdict[perf[4:]].phases\n",
    "        act_index = node_index_map[act]\n",
    "        perf_index = node_index_map[perf]\n",
    "        \n",
    "        phase_intrsct = [ph for ph in act_phases if ph in perf_phases]\n",
    "        if phase_intrsct == []: # disallow configs in which the act and perf node phases are not aligned. Results in kgain=0.0001 and thinks it's feasible\n",
    "            print('WARNING: act_node ' + act + ' can NOT track perf_node ' + perf + ' --> no common phases')\n",
    "            phase_loop_check=False\n",
    "            break # if any actuator of the config has phase mismtach (between act and perf), don't evaluate the config\n",
    "        else:\n",
    "            phase_loop_check=True\n",
    "            for i in range(len(phase_intrsct)):\n",
    "                if phase_intrsct[i] == 'a':\n",
    "                    phase_intrsct[i] = 0\n",
    "                elif phase_intrsct[i] == 'b':\n",
    "                    phase_intrsct[i] = 1\n",
    "                elif phase_intrsct[i] == 'c':\n",
    "                    phase_intrsct[i] = 2\n",
    "\n",
    "            for ph in phase_intrsct:\n",
    "                indicMat[(act_index*3)+ph][(perf_index*3)+ph] = 1\n",
    "                indicMat[(act_index*3)+(3*n)+ph][(perf_index*3)+(3*n)+ph] = 1   \n",
    "            \n",
    "    return indicMat,phase_loop_check"
   ]
  }
 ],
 "metadata": {
  "kernelspec": {
   "display_name": "Python 3",
   "language": "python",
   "name": "python3"
  },
  "language_info": {
   "codemirror_mode": {
    "name": "ipython",
    "version": 3
   },
   "file_extension": ".py",
   "mimetype": "text/x-python",
   "name": "python",
   "nbconvert_exporter": "python",
   "pygments_lexer": "ipython3",
   "version": "3.7.6"
  }
 },
 "nbformat": 4,
 "nbformat_minor": 4
}
