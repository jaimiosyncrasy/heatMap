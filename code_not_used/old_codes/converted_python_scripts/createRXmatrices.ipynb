{
 "cells": [
  {
   "cell_type": "code",
   "execution_count": null,
   "metadata": {},
   "outputs": [],
   "source": [
    "'These Functions are Located in NetworkVisualizationCode and should be run in that file'\n",
    "\n",
    "def get_path_to_substation(feeder, node):\n",
    "    #returns list of edges between node and substation\n",
    "    #node = node name as string\n",
    "    graph = feeder.network\n",
    "    node_path = []\n",
    "    current_node = node\n",
    "    \n",
    "    for i in range(depths[node]):\n",
    "        pred_node = list(graph.predecessors(current_node))\n",
    "        node_path += [(current_node, pred_node[0])]\n",
    "        current_node = pred_node[0]\n",
    "    return node_path\n",
    "\n",
    "\n",
    "def createRXmatrices(feeder, node_index_map):\n",
    "    #calculated using phase A impedances unless there is no phase A then phase B else phase C\n",
    "    graph = feeder.network\n",
    "    n = len(graph.nodes) #number of nodes\n",
    "    R = np.zeros((n,n))\n",
    "    X = np.zeros((n,n))\n",
    "    P = {} #initializing line path dictionary\n",
    "   \n",
    "    for node in graph.nodes:\n",
    "        P[node] = get_path_to_substation(feeder, node)\n",
    "    \n",
    "    for n_outer in graph.nodes:\n",
    "        index_outer = node_index_map[n_outer]\n",
    "        \n",
    "        for n_inner in graph.nodes:\n",
    "            index_inner = node_index_map[n_inner]\n",
    "            intersection_set = set.intersection(set(P[n_outer]), set(P[n_inner]))\n",
    "            intersection_list = list(intersection_set)\n",
    "            r_sum = 0\n",
    "            x_sum = 0\n",
    "            \n",
    "            for edge in intersection_list:\n",
    "                tot_edge_impedance = get_total_impedance_between_two_buses(feeder, edge[0], edge[1])\n",
    "                \n",
    "                if tot_edge_impedance['Phase 1']:\n",
    "                    phase_edge_impedance = tot_edge_impedance['Phase 1']\n",
    "                elif tot_edge_impedance['Phase 2']:\n",
    "                    phase_edge_impedance = tot_edge_impedance['Phase 2']\n",
    "                else:\n",
    "                    phase_edge_impedance = tot_edge_impedance['Phase 3']  \n",
    "                    \n",
    "                r_sum += phase_edge_impedance.real\n",
    "                x_sum += phase_edge_impedance.imag\n",
    "            R[index_outer][index_inner] = 2*r_sum\n",
    "            X[index_outer][index_inner] = 2*x_sum\n",
    "            \n",
    "    return R, X"
   ]
  }
 ],
 "metadata": {
  "kernelspec": {
   "display_name": "Python 3",
   "language": "python",
   "name": "python3"
  },
  "language_info": {
   "codemirror_mode": {
    "name": "ipython",
    "version": 3
   },
   "file_extension": ".py",
   "mimetype": "text/x-python",
   "name": "python",
   "nbconvert_exporter": "python",
   "pygments_lexer": "ipython3",
   "version": "3.7.1"
  }
 },
 "nbformat": 4,
 "nbformat_minor": 2
}
