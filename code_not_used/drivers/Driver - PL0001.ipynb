{
 "cells": [
  {
   "cell_type": "code",
   "execution_count": null,
   "metadata": {},
   "outputs": [],
   "source": [
    "# Below we have sections of short driver scripts that run different parts of the heatmap code\n",
    "# Not all functions in the 5 functiond definition .py's are called yet,\n",
    "# but the ones that are called so far compile below without error"
   ]
  },
  {
   "cell_type": "code",
   "execution_count": null,
   "metadata": {
    "scrolled": true
   },
   "outputs": [],
   "source": [
    "import importlib\n",
    "import setup_nx # your own module, setup.nx.py\n",
    "import numpy as np\n",
    "import math as m\n",
    "import statistics as st\n",
    "import cmath\n",
    "import matplotlib.pyplot as plt \n",
    "import itertools\n",
    "from operator import add\n",
    "importlib.reload(setup_nx)\n",
    "from setup_nx import *\n",
    "from graphviz import Source, render\n",
    "\n",
    "import datetime\n",
    "import time\n",
    "\n",
    "import my_feeder_funcs as ff\n",
    "import my_impedance_funcs as imp\n",
    "import my_configVis_funcs as vis\n",
    "import my_detControlMatExistence_funcs as ctrl\n",
    "import my_detLznRange_funcs as lzn\n",
    "import my_heatmapSetup_funcs as hm\n"
   ]
  },
  {
   "cell_type": "code",
   "execution_count": null,
   "metadata": {},
   "outputs": [],
   "source": [
    "# # List functions in each helper .py\n",
    "# help(ff)\n",
    "# print(\"----------------------------------------------------------\")\n",
    "# help(imp)\n",
    "# print(\"----------------------------------------------------------\")\n",
    "# help(vis)\n",
    "# print(\"----------------------------------------------------------\")\n",
    "# help(lzn)\n",
    "# print(\"----------------------------------------------------------\")\n",
    "# help(hm)\n",
    "# print(\"----------------------------------------------------------\")\n",
    "# help(ctrl)"
   ]
  },
  {
   "cell_type": "code",
   "execution_count": null,
   "metadata": {},
   "outputs": [],
   "source": [
    "# [Essential] specify input feeder data\n",
    "\n",
    "#-----------------------------------------------------------------\n",
    "'specifying file paths'\n",
    "# Enter the path/name of the model's excel file and import\n",
    "    # All GridBright load files should be in the following folder\n",
    "    #loadfolder = \"/Users/jasperpakshong/Documents/Berkeley/ENERGISE/IEEE13/\"\n",
    "    #loadpath = loadfolder + \"IEEE13testload_w_extreme_act.xlsx\"\n",
    "\n",
    "    # filepath = \"IEEE13/\"\n",
    "    # modelpath = filepath + \"001 phasor08_IEEE13_OPAL.xls\"\n",
    "    # loadfolder = \"IEEE13/\"\n",
    "    # loadpath = loadfolder + \"001_phasor08_IEEE13_norm03_HIL_7_1.xlsx\"\n",
    "\n",
    "    #filepath = \"AL0001/\"\n",
    "    #modelpath = filepath + \"AL0001_OPAL_working.xls\"\n",
    "    #loadfolder = \"AL0001/\"\n",
    "    #loadpath = loadfolder + \"AL0001_tvload_afternoon1h.csv\"\n",
    "      \n",
    "    #filepath = \"13NF_balanced/\"\n",
    "    #modelpath = filepath + \"016 GB_IEEE13_balance_all_ver2.xls\"\n",
    "    #loadfolder = \"13NF_balanced/\"\n",
    "    #loadpath = loadfolder + \"016 GB_IEEE13_balance all ver2_time_sigBuilder_secondWise_norm03.csv\"\n",
    "\n",
    "filepath = \"PL0001/\"\n",
    "modelpath = filepath + \"PL0001_OPAL_working_reform_xfmr_heatmapMod.xlsx\"\n",
    "loadfolder = \"PL0001/\"\n",
    "loadpath = loadfolder + \"PL0001_July_secondwise_norm03.csv\" # may update with better data soon\n",
    "\n",
    "headerpath = '??13NF_balanced/001_phasor08_IEEE13_time_header.csv'\n",
    "load_data = '??13NF_balanced/001_phasor08_IEEE13_time_PVpen50_cloud_minutewise (1).csv'\n",
    "\n",
    "\n",
    "#==========================================================================================================\n",
    "\n",
    "'specifying file name'\n",
    "#file_name = string specifying name of dot file created when make_graph() is called\n",
    "file_name = 'PL0001_test.dot'\n",
    "\n",
    "#==========================================================================================================\n",
    "\n",
    "'Specify substation kV, kVA bases, name, and the number of timesteps in the load data'\n",
    "Vbase_ll = 7275*np.sqrt(3)\n",
    "Vbase = 7275\n",
    "Sbase = 1500000/3 #kVA of substation xfmr \n",
    "substation_name = 'bus_216866'\n",
    "timesteps = 1\n",
    "\n",
    "'DO NOT NEED TO EDIT THIS CELL BEFORE RUNNING'\n",
    "\n",
    "ts = time.time()\n",
    "print()\n",
    "print(datetime.datetime.fromtimestamp(ts))\n",
    "\n",
    "plot = 0 #turn plot on/off\n",
    "\n",
    "depths = {}\n",
    "leaves = []"
   ]
  },
  {
   "cell_type": "code",
   "execution_count": null,
   "metadata": {},
   "outputs": [],
   "source": [
    "# [ESSENTIAL] create feeder obj\n",
    "fin_feeder =ff.feeder_init(modelpath,loadfolder,loadpath,timesteps,Vbase_ll,Sbase,depths,leaves)\n",
    "print(\"Finished initializing feeder\")\n",
    "ff.make_graph(fin_feeder, file_name)\n",
    "node_index_map = hm.createNodeIndexMap(fin_feeder) #node indices for indicMat and F matrix\n",
    "print(depths) # should be populated\n",
    "\n",
    "R,X=hm.createRXmatrices_3ph(fin_feeder, node_index_map,depths)\n",
    "\n",
    "\n",
    "count = 0 # print list of buses in network\n",
    "for i in fin_feeder.network:    \n",
    "    print(i) \n",
    "    count += 1\n",
    "    if count >= 10:\n",
    "        break\n",
    "    \n",
    "Source.from_file(file_name)\n",
    "#^ need this to plot feeder"
   ]
  },
  {
   "cell_type": "code",
   "execution_count": null,
   "metadata": {
    "scrolled": true
   },
   "outputs": [],
   "source": [
    "#hm.get_path_to_substation(fin_feeder,'bus_N_L_21316_sec',depths)\n",
    "print(len(depths))\n",
    "print('depths=',depths)\n",
    "# only secondary side buses connected to xfmrs show up in 'depths' and on network graph"
   ]
  },
  {
   "cell_type": "code",
   "execution_count": null,
   "metadata": {},
   "outputs": [],
   "source": [
    "import csv \n",
    "graph = fin_feeder.network\n",
    "#print(graph.nodes)\n",
    "\n",
    "# write busnames into a csv\n",
    "# with open(\"123NF_busList.csv\", 'w', newline='') as csvfile:\n",
    "#     spamwriter = csv.writer(csvfile, delimiter='-',\n",
    "#                             quotechar='|', quoting=csv.QUOTE_MINIMAL)\n",
    "#     spamwriter.writerows(graph.nodes)"
   ]
  },
  {
   "cell_type": "code",
   "execution_count": null,
   "metadata": {},
   "outputs": [],
   "source": [
    "# [Optional] run impedance-related functions\n",
    "slack_bus = None\n",
    "for bus_name, depth in depths.items():\n",
    "    if depth == 0:\n",
    "        slack_bus = bus_name\n",
    "        break\n",
    "        \n",
    "# -------------------- now we call functions: ---------------------------------------------\n",
    "#print(depths)\n",
    "# modify node names when change feeders\n",
    "#plot_histogram_RX_ratios(fin_feeder, leaves_only = True)\n",
    "print('Z between buses:')\n",
    "print(np.around(imp.get_total_impedance_between_two_buses(fin_feeder, 'bus_033983', 'bus_053285',depths),2))\n",
    "print('\\nBus N_300053285 Z to substation:')\n",
    "print(np.around(imp.get_total_impedance_from_substation(fin_feeder, 'bus_053285',depths),2))\n",
    "print('\\nR/X ratio of bus 49 to substation:')\n",
    "print(imp.get_RX_ratio_tosubst(fin_feeder,'bus_053285',depths))\n",
    "# should check on how to format the printing do that it's to like 2 decimal places\n",
    "\n",
    "print(len(R))"
   ]
  },
  {
   "cell_type": "code",
   "execution_count": null,
   "metadata": {},
   "outputs": [],
   "source": [
    "# R is of size 1023, which is 341*3, so set n=341\n",
    "n=341\n",
    "A, B = hm.setupStateSpace(n,fin_feeder, node_index_map,depths)\n",
    "print('R = '+str(R))\n",
    "print('X = '+str(X))\n",
    "print('A = '+str(A))\n",
    "print('B = '+str(B))\n",
    "print(A.shape)\n",
    "print(B.shape)\n",
    "\n",
    "# write A and B matrices to csv\n",
    "#np.savetxt(\"123NF_Amat.csv\", A, delimiter=\",\")\n",
    "#np.savetxt(\"123NF_Bmat.csv\", B, delimiter=\",\")\n",
    "\n",
    "# Save R and X matrices to csv to import into matlab\n",
    "# np.savetxt reference: https://thispointer.com/how-to-save-numpy-array-to-a-csv-file-using-numpy-savetxt-in-python/\n",
    "#np.savetxt('Rmat_PL0001.csv', R, delimiter=',')\n",
    "#np.savetxt('Xmat_PL0001.csv', X, delimiter=',')"
   ]
  },
  {
   "cell_type": "code",
   "execution_count": null,
   "metadata": {
    "scrolled": true
   },
   "outputs": [],
   "source": [
    "import csv \n",
    "graph = fin_feeder.network\n",
    "#print(graph.nodes)\n",
    "\n",
    "#write busnames into a csv\n",
    "with open(\"PL0001_busList.csv\", 'w', newline='') as csvfile:\n",
    "    spamwriter = csv.writer(csvfile, delimiter='-',\n",
    "                            quotechar='|', quoting=csv.QUOTE_MINIMAL)\n",
    "    spamwriter.writerows(graph.nodes)"
   ]
  },
  {
   "cell_type": "code",
   "execution_count": null,
   "metadata": {},
   "outputs": [],
   "source": [
    "# ------- Create figure 2 ------------\n",
    "phase_ratios = vis.phaseCouplingPerNode(fin_feeder,depths)\n",
    "vis.createColorMap(fin_feeder, phase_ratios, 'fig2_PL0001')\n",
    "Source.from_file('colorMap_fig2_PL0001') # display graph in notebook\n",
    "ff.clear_graph(fin_feeder)"
   ]
  },
  {
   "cell_type": "code",
   "execution_count": null,
   "metadata": {},
   "outputs": [],
   "source": [
    "# ---------- helper code to find index of any bus -----------\n",
    "graph = fin_feeder.network\n",
    "print(len(graph.nodes)) #number of nodes in network\n",
    "print(len(depths)) # same as ^\n",
    "print(substation_name)\n",
    "\n",
    "bus2find=substation_name # you can choose any bus name\n",
    "idx = [idx for idx, element in enumerate(graph.nodes) if element==bus2find]\n",
    "print(idx)"
   ]
  },
  {
   "cell_type": "code",
   "execution_count": null,
   "metadata": {},
   "outputs": [],
   "source": [
    "# commented out because takes LONG time to evaluate co-located at every node of 123NF\n",
    "#-----------------------------------------------\n",
    "\n",
    "# Create Fig 1: # start with just binary heat map across all nodes\n",
    "# based on heat map colors, maybe try: branches color-coded and marked feasible (green outline) or infeasible (red outline) \n",
    "\n",
    "# find good colocated?\n",
    "all_act_locs = []\n",
    "perf_nodes = []\n",
    "# empty act locs asks heatMapProcess to create heatmap for empty network, i.e. feas of placing 1 co-located actuator at each loc\n",
    "feas_configs, heatMapNames=hm.find_good_colocated(fin_feeder, [], node_index_map,substation_name,depths, file_name,Vbase_ll, Sbase, load_data, headerpath, modelpath)\n",
    "print('----------- Feas configs are: ---------')\n",
    "print(feas_configs)\n",
    "Source.from_file(heatMapNames[0]) # display graph in notebook"
   ]
  },
  {
   "cell_type": "code",
   "execution_count": null,
   "metadata": {},
   "outputs": [],
   "source": [
    "# ----- Run computeFParamSpace ---------\n",
    "# all_act_locs = ['bus_25','bus_39','bus_56','bus_108'] # 49, then 76, then 65\n",
    "# perf_nodes = ['bus_25','bus_39','bus_56','bus_108']\n",
    "Fq_ub,Fp_ub=ctrl.computeFParamSpace_v2(fin_feeder, all_act_locs, perf_nodes,R,X,depths,node_index_map)\n",
    "# this function prints Zgood (from R and X matrices) and Z_toSubst, where Z_toSubst is correct but doesnt match Zgood. Investigate\n",
    "print('(Fp_ub,Fq_ub)=(',Fp_ub,',',Fq_ub,')')"
   ]
  },
  {
   "cell_type": "code",
   "execution_count": null,
   "metadata": {},
   "outputs": [],
   "source": [
    "# run evalConfig on 10 different evenly spaced nodes\n",
    "t = time.time()\n",
    "\n",
    "all_act_locs = ['bus_053281'] \n",
    "perf_nodes = ['bus_053281']\n",
    "feas, maxError,numfeas=hm.eval_config(fin_feeder, all_act_locs,perf_nodes, node_index_map,substation_name,depths,file_name,Vbase_ll, Sbase, load_data, headerpath, modelpath)\n",
    "\n",
    "all_act_locs = ['bus_062296'] \n",
    "perf_nodes = ['bus_062296']\n",
    "feas, maxError,numfeas=hm.eval_config(fin_feeder, all_act_locs,perf_nodes, node_index_map,substation_name,depths,file_name,Vbase_ll, Sbase, load_data, headerpath, modelpath)\n",
    "\n",
    "all_act_locs = ['bus_004134'] \n",
    "perf_nodes = ['bus_004134']\n",
    "feas, maxError,numfeas=hm.eval_config(fin_feeder, all_act_locs,perf_nodes, node_index_map,substation_name,depths,file_name,Vbase_ll, Sbase, load_data, headerpath, modelpath)\n",
    "\n",
    "all_act_locs = ['bus_020632'] \n",
    "perf_nodes = ['bus_020632']\n",
    "feas, maxError,numfeas=hm.eval_config(fin_feeder, all_act_locs,perf_nodes, node_index_map,substation_name,depths,file_name,Vbase_ll, Sbase, load_data, headerpath, modelpath)\n",
    "\n",
    "all_act_locs = ['bus_062321'] \n",
    "perf_nodes = ['bus_062321']\n",
    "feas, maxError,numfeas=hm.eval_config(fin_feeder, all_act_locs,perf_nodes, node_index_map,substation_name,depths,file_name,Vbase_ll, Sbase, load_data, headerpath, modelpath)\n",
    "\n",
    "all_act_locs = ['bus_033983'] \n",
    "perf_nodes = ['bus_033983']\n",
    "feas, maxError,numfeas=hm.eval_config(fin_feeder, all_act_locs,perf_nodes, node_index_map,substation_name,depths,file_name,Vbase_ll, Sbase, load_data, headerpath, modelpath)\n",
    "\n",
    "all_act_locs = ['bus_062294'] \n",
    "perf_nodes = ['bus_062294']\n",
    "feas, maxError,numfeas=hm.eval_config(fin_feeder, all_act_locs,perf_nodes, node_index_map,substation_name,depths,file_name,Vbase_ll, Sbase, load_data, headerpath, modelpath)\n",
    "\n",
    "all_act_locs = ['bus_233573'] \n",
    "perf_nodes = ['bus_233573']\n",
    "feas, maxError,numfeas=hm.eval_config(fin_feeder, all_act_locs,perf_nodes, node_index_map,substation_name,depths,file_name,Vbase_ll, Sbase, load_data, headerpath, modelpath)\n",
    "\n",
    "all_act_locs = ['bus_062066'] \n",
    "perf_nodes = ['bus_062066']\n",
    "feas, maxError,numfeas=hm.eval_config(fin_feeder, all_act_locs,perf_nodes, node_index_map,substation_name,depths,file_name,Vbase_ll, Sbase, load_data, headerpath, modelpath)\n",
    "\n",
    "all_act_locs = ['bus_063918'] \n",
    "perf_nodes = ['bus_063918']\n",
    "feas, maxError,numfeas=hm.eval_config(fin_feeder, all_act_locs,perf_nodes, node_index_map,substation_name,depths,file_name,Vbase_ll, Sbase, load_data, headerpath, modelpath)\n",
    "\n",
    "elapsed = time.time() - t\n",
    "print('Time elapsed=',elapsed)"
   ]
  },
  {
   "cell_type": "code",
   "execution_count": null,
   "metadata": {},
   "outputs": [],
   "source": [
    "# run evalConfig on mult act config with perf node 10 different evenly spaced nodes\n",
    "all_act_locs = ['bus_053281','bus_062296','bus_004134','bus_020632','bus_062321','bus_033983','bus_062294','bus_233573','bus_062066','bus_063918'] \n",
    "perf_nodes = ['bus_221986','bus_221986','bus_221986','bus_221986','bus_221986','bus_221986','bus_221986','bus_221986','bus_221986','bus_221986']\n",
    "feas, maxError,numfeas=hm.eval_config(fin_feeder, all_act_locs,perf_nodes, node_index_map,substation_name,depths,file_name,Vbase_ll, Sbase, load_data, headerpath, modelpath)\n"
   ]
  },
  {
   "cell_type": "code",
   "execution_count": null,
   "metadata": {},
   "outputs": [],
   "source": [
    "# run evalConfig on mult perf colocated with 10 different evenly spaced nodes\n",
    "all_act_locs = ['bus_053281','bus_062296','bus_004134','bus_020632','bus_062321','bus_033983','bus_062294','bus_233573','bus_062066','bus_063918'] \n",
    "perf_nodes = ['bus_053281','bus_062296','bus_004134','bus_020632','bus_062321','bus_033983','bus_062294','bus_233573','bus_062066','bus_063918'] \n",
    "feas, maxError,numfeas=hm.eval_config(fin_feeder, all_act_locs,perf_nodes, node_index_map,substation_name,depths,file_name,Vbase_ll, Sbase, load_data, headerpath, modelpath)"
   ]
  },
  {
   "cell_type": "code",
   "execution_count": null,
   "metadata": {},
   "outputs": [],
   "source": [
    "# ------ helper code to find indices of set of buses -----------\n",
    "all_act_locs = ['bus_053281','bus_062296','bus_004134','bus_020632','bus_062321','bus_033983','bus_062294','bus_233573','bus_062066','bus_063918'] \n",
    "my_buses=list(node_index_map.keys())\n",
    "\n",
    "config_indices=[]\n",
    "\n",
    "for ele in all_act_locs:\n",
    "    i = my_buses.index(ele)\n",
    "    config_indices.append(i)\n",
    "\n",
    "print(config_indices)\n"
   ]
  },
  {
   "cell_type": "code",
   "execution_count": null,
   "metadata": {},
   "outputs": [],
   "source": [
    "# Compute RX ratios and phase coupling ratios here\n",
    "#nodes = graph.nodes\n",
    "\n",
    "# Print Table \n",
    "RXratios_10node=[]\n",
    "for act in all_act_locs:\n",
    "    dict=imp.get_RX_ratio_tosubst(fin_feeder,act,depths) # dictionary for the 3 phases\n",
    "    RXratios_10node.append(sum(dict.values()) / len(dict)) # holds mean of RX ratio on each line\n",
    "\n",
    "phVal=list(phase_ratios.values())\n",
    "my_buses=list(node_index_map.keys())\n",
    "phase_ratios_10node=[]\n",
    "my_buses_10node=[]\n",
    "\n",
    "for i in config_indices:\n",
    "    phase_ratios_10node.append(phVal[i])\n",
    "    my_buses_10node.append(my_buses[i])\n",
    "\n",
    "#Table format: [bus_name, RX ratio, phase coupling ratio]\n",
    "for my_buses_10node,RXratios_10node,phase_ratios_10node in zip(my_buses_10node,RXratios_10node,phase_ratios_10node):\n",
    "    print(my_buses_10node,np.around(RXratios_10node,decimals=3),np.around(phase_ratios_10node, decimals=3))\n",
    "    \n",
    "# technically we should find the phase coupling ratio by splitting into R and X first..."
   ]
  },
  {
   "cell_type": "code",
   "execution_count": null,
   "metadata": {},
   "outputs": [],
   "source": [
    "# -------Create Fig 4 ----------\n",
    "# ----------- Demo of RHP on FEAS config --------------\n",
    " #complex config 1 (feas)\n",
    "all_act_locs = ['bus_053281'] # 49, then 76, then 65\n",
    "perf_nodes = ['bus_053281']\n",
    "lst_feas_configs, lzn_error_run_sum,heatMapNames=hm.runHeatMapProcess(fin_feeder, all_act_locs, perf_nodes, node_index_map,substation_name,depths,file_name,Vbase_ll, Sbase, load_data, headerpath, modelpath)\n",
    "#see sections below to view graph results\n",
    "\n",
    "#complex config 2 (feas)\n",
    "# all_act_locs = ['bus_25','bus_39','bus_56','bus_108'] # 49, then 76, then 65\n",
    "# perf_nodes = ['bus_25','bus_39','bus_56','bus_108']\n",
    "# lst_feas_configs, lzn_error_run_sum,heatMapNames=hm.runHeatMapProcess(fin_feeder, all_act_locs, perf_nodes, node_index_map,substation_name,depths,file_name)\n",
    "# time taken = 42561 seconds = 12 hours (though paused when went to sleep)\n",
    "\n",
    "# t = time.time()\n",
    "# #complex config 3 (feas)\n",
    "# all_act_locs = ['bus_105','bus_112','bus_100','bus_91'] # 49, then 76, then 65\n",
    "# perf_nodes = ['bus_105','bus_112','bus_100','bus_91']\n",
    "# lst_feas_configs, lzn_error_run_sum,heatMapNames=hm.runHeatMapProcess(fin_feeder, all_act_locs, perf_nodes, node_index_map,substation_name,depths,file_name)\n",
    "# #see sections below to view graph results\n",
    "# # time taken = 42561 seconds = 12 hours (though paused when went to sleep)\n",
    "# elapsed = time.time() - t\n",
    "# print('Time elapsed=',elapsed)\n",
    "      "
   ]
  },
  {
   "cell_type": "code",
   "execution_count": null,
   "metadata": {},
   "outputs": [],
   "source": [
    "Source.from_file(heatMapNames[0]) # display graph in notebook"
   ]
  },
  {
   "cell_type": "code",
   "execution_count": null,
   "metadata": {},
   "outputs": [],
   "source": [
    "Source.from_file(heatMapNames[1]) # display graph in notebook"
   ]
  },
  {
   "cell_type": "markdown",
   "metadata": {},
   "source": [
    "Source.from_file(heatMapNames[2]) # display graph in notebook"
   ]
  }
 ],
 "metadata": {
  "kernelspec": {
   "display_name": "Python 3",
   "language": "python",
   "name": "python3"
  },
  "language_info": {
   "codemirror_mode": {
    "name": "ipython",
    "version": 3
   },
   "file_extension": ".py",
   "mimetype": "text/x-python",
   "name": "python",
   "nbconvert_exporter": "python",
   "pygments_lexer": "ipython3",
   "version": "3.7.6"
  }
 },
 "nbformat": 4,
 "nbformat_minor": 4
}
