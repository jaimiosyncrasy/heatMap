{
 "cells": [
  {
   "cell_type": "code",
   "execution_count": null,
   "metadata": {},
   "outputs": [],
   "source": [
    "def makeQVcurve(Sweep_lb, Sweep_ub, Sbase, Vbase, R12, X12, V1):\n",
    "    numPts = 20\n",
    "    Q12 = np.linspace(Sweep_lb, Sweep_ub, numPts)\n",
    "    P12pu = m.tan(m.acos(0.9))  \n",
    "    P12 = P12pu * Sbase\n",
    "    trueV2 = np.zeros(numPts)\n",
    "    trueDel2 = np.zeros(numPts)\n",
    "    lznV2 = np.zeros(numPts)\n",
    "    lznDel2 = np.zeros(numPts)\n",
    "    \n",
    "     for i in range(len(Q12)):\n",
    "        a, b = solveFwdBwdSweep_2bus(R12, X12, V1, P12, Q12[i])\n",
    "        trueV2[i] = a\n",
    "        trueDel2[i] = b\n",
    "        V2sq = ((V1[0])**2) - (2*R12*P12) - (2*X12*Q12[i])\n",
    "        V2 = V2sq**(1/2)\n",
    "        delta2 = V1[1] - (((X12*P12)-(R12*Q12[i]))/(V[0]*V2))\n",
    "        lznV2[i] = V2\n",
    "        lznDel2[i] = (180/m.pi)*delta2\n",
    "        \n",
    "    fig, (ax1, ax2) = plt.subplots(2)\n",
    "    ax1.plot(Q12/Sbase, lznV2/Vbase, label = 'linearization', color = 'red')\n",
    "    ax1.plot(Q12/Sbase, trueV2/Vbase, label = 'true', color = 'blue')\n",
    "    ax1.xlabel = 'Q12, kW'\n",
    "    ax1.ylabel = 'V2, pu'\n",
    "    ax1.title = 'True Q-V Curve and Linearization Curve'\n",
    "    \n",
    "    ax2.plot(Q12/Sbase, lznDel2, label = 'linearization', color = 'red')\n",
    "    ax2.plot(Q12/Sbase, trueDel2, label = 'true', color = 'blue')\n",
    "    ax2.xlabel = 'Q12, kVAR'\n",
    "    ax2.ylabel = 'Delta2, degrees'\n",
    "    ax2.title = 'True Q-Del Curve and Linearization Curve'\n",
    "    \n",
    "    return Q12, solns"
   ]
  }
 ],
 "metadata": {
  "kernelspec": {
   "display_name": "Python 3",
   "language": "python",
   "name": "python3"
  },
  "language_info": {
   "codemirror_mode": {
    "name": "ipython",
    "version": 3
   },
   "file_extension": ".py",
   "mimetype": "text/x-python",
   "name": "python",
   "nbconvert_exporter": "python",
   "pygments_lexer": "ipython3",
   "version": "3.7.1"
  }
 },
 "nbformat": 4,
 "nbformat_minor": 2
}
