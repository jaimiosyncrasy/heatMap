{
 "cells": [
  {
   "cell_type": "code",
   "execution_count": null,
   "metadata": {},
   "outputs": [],
   "source": [
    "def computeLznItvl(x, fx_lzn, fx_true, figNum):\n",
    "    #choose so that curves align, somewhat arbitrary but directly affects opt soln\n",
    "    e = 0.15*(max(fx_true)-min(fx_true))\n",
    "    \n",
    "    #Compute lzn itvl\n",
    "    r = abs(fx_lzn - fx_true)\n",
    "    i = 0\n",
    "    temp = [] #indices\n",
    "    \n",
    "    for val in r:  \n",
    "        if val < e:\n",
    "            temp += [i]\n",
    "        i += 1\n",
    "        \n",
    "    lb = min(temp) \n",
    "    ub = max(temp)\n",
    "    mean_idx = round(len(x)/2)\n",
    "    \n",
    "    plt.plot([x[lb], x[lb]], [fx_lzn[lb], fx_true[lb]])\n",
    "    plt.plot([x[ub], x[ub]], [fx_lzn[ub], fx_true[ub]])\n",
    "    plt.savefig('LznItvl.png')\n",
    "    \n",
    "    xlb = x[lb]\n",
    "    xub = x[ub]\n",
    "    fx_max = max(fx_true)\n",
    "    \n",
    "    r = ((fx_true + [0,0]) - ([0,0] + fx_true))/((x + [0,0]) - ([0,0] + x))\n",
    "    s = ((fx_true + [0]) - ([0] + fx_true))/((x + [0]) - ([0] + x))\n",
    "    slopes_true = [s[1]] + r[2:-1] + [s[-1]]\n",
    "    slopeInfo = [min(slopes_true), max(slopes_true), np.mean(slopes_true)]\n",
    "    \n",
    "    return xlb, xub, fx_max, slopeInfo"
   ]
  }
 ],
 "metadata": {
  "kernelspec": {
   "display_name": "Python 3",
   "language": "python",
   "name": "python3"
  },
  "language_info": {
   "codemirror_mode": {
    "name": "ipython",
    "version": 3
   },
   "file_extension": ".py",
   "mimetype": "text/x-python",
   "name": "python",
   "nbconvert_exporter": "python",
   "pygments_lexer": "ipython3",
   "version": "3.7.1"
  }
 },
 "nbformat": 4,
 "nbformat_minor": 2
}
