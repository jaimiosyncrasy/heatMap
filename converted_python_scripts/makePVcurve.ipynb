{
 "cells": [
  {
   "cell_type": "code",
   "execution_count": null,
   "metadata": {},
   "outputs": [],
   "source": [
    "def makePVcurve(sweep_lb, sweep_ub, Sbase, Vbase, R12, X12, V1):\n",
    "    numPts = 20\n",
    "    P12 = np.linspace(sweep_lb, sweep_ub, numPts)\n",
    "    Q12pu = m.tan(m.acos(.9))\n",
    "    Q12 = Q12pu * Sbase\n",
    "    trueV2 = np.zeros(numPts)\n",
    "    trueDel2 = np.zeros(numPts)\n",
    "    lznV2 = np.zeros(numPts)\n",
    "    lznDel2 = np.zeros(numPts)\n",
    "    \n",
    "    for i in range(len(P12)):\n",
    "        a, b = solveFwdBwdSweep_2bus(R12, X12, V1, P12[i], Q12)\n",
    "        trueV2[i] = a\n",
    "        trueDel2[i] = b\n",
    "        V2sq = ((V1[0])**2) - (2*R12*P12[i]) - (2*X12*Q12)\n",
    "        V2 = V2sq**(1/2)\n",
    "        delta2 = V1[1] - (((X12*P12[i])-(R12*Q12))/(V[0]*V2))\n",
    "        lznV2[i] = V2\n",
    "        lznDel2[i] = (180/m.pi)*delta2\n",
    "    \n",
    "    fig, (ax1, ax2) = plt.subplots(2)\n",
    "    ax1.plot(P12/Sbase, lznV2/Vbase, label = 'linearization', color = 'red')\n",
    "    ax1.plot(P12/Sbase, trueV2/Vbase, label = 'true', color = 'blue')\n",
    "    ax1.xlabel = 'P12, kW'\n",
    "    ax1.ylabel = 'V2, pu'\n",
    "    ax1.title = 'True P-V Curve and Linearization Curve'\n",
    "    \n",
    "    ax2.plot(P12/Sbase, lznDel2, label = 'linearization', color = 'red')\n",
    "    ax2.plot(P12/Sbase, trueDel2, label = 'true', color = 'blue')\n",
    "    ax2.xlabel = 'P12, kW'\n",
    "    ax2.ylabel = 'Delta2, degrees, pu'\n",
    "    ax2.title = 'True P-Del Curve and Linearization Curve'\n",
    "    \n",
    "    return P12, solns"
   ]
  }
 ],
 "metadata": {
  "kernelspec": {
   "display_name": "Python 3",
   "language": "python",
   "name": "python3"
  },
  "language_info": {
   "codemirror_mode": {
    "name": "ipython",
    "version": 3
   },
   "file_extension": ".py",
   "mimetype": "text/x-python",
   "name": "python",
   "nbconvert_exporter": "python",
   "pygments_lexer": "ipython3",
   "version": "3.7.1"
  }
 },
 "nbformat": 4,
 "nbformat_minor": 2
}
